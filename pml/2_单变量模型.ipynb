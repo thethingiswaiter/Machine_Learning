{
 "cells": [
  {
   "cell_type": "markdown",
   "metadata": {},
   "source": [
    "## 单变量模型\n",
    "\n",
    "### 什么是概率\n",
    "- 频率角度: 大量重复实验得到的概率\n",
    "- 贝叶斯角度: 从根本上与信息有关, 而不是重复实验\n",
    "\n",
    "#### 随机变量\n",
    "\n",
    "- 离散变量 概率质量方程(pmf) 计算 $p(x) = Pr(X = x)$\n",
    "- 连续变量 累积分布函数(cdf) 计算 $P(x) = Pr(X \\le x)$\n",
    "- 概率密度方程(pdf) 计算 $p(x) = \\frac{d}{dx}P(x)$"
   ]
  }
 ],
 "metadata": {
  "kernelspec": {
   "display_name": "logit",
   "language": "python",
   "name": "python3"
  },
  "language_info": {
   "name": "python",
   "version": "3.10.14"
  }
 },
 "nbformat": 4,
 "nbformat_minor": 2
}
