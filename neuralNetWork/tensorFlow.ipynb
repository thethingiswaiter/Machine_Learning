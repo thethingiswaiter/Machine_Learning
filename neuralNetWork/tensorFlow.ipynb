{
 "cells": [
  {
   "cell_type": "markdown",
   "metadata": {},
   "source": [
    "## TensorFlow"
   ]
  },
  {
   "cell_type": "code",
   "execution_count": 42,
   "metadata": {},
   "outputs": [
    {
     "data": {
      "text/plain": [
       "<tf.Tensor: shape=(), dtype=float32, numpy=1.2723010778427124>"
      ]
     },
     "execution_count": 42,
     "metadata": {},
     "output_type": "execute_result"
    }
   ],
   "source": [
    "import tensorflow as tf\n",
    "import pandas as pd\n",
    "\n",
    "from keras.losses import mean_squared_error\n",
    "\n",
    "# 直接运行加载数据集\n",
    "df = pd.read_csv(\"course-12-data.csv\", header=0)\n",
    "df.head()  # 预览前 5 行数据\n",
    "\n",
    "tf.get_logger().setLevel(\"ERROR\")\n",
    "\n",
    "# 将数组转换为常量张量\n",
    "X = tf.cast(tf.constant(df[[\"X0\", \"X1\"]].values), tf.float32)\n",
    "y = tf.constant(df[[\"Y\"]].values)\n",
    "\n",
    "X.shape, y.shape\n",
    "\n",
    "class Model(object):\n",
    "    def __init__(self):\n",
    "        # 初始化权重全为 1，也可以随机初始化\n",
    "        # 选择变量张量，因为权重后续会不断迭代更新\n",
    "        self.W1 = tf.Variable(tf.ones([2, 3]))\n",
    "        self.W2 = tf.Variable(tf.ones([3, 1]))\n",
    "\n",
    "    def __call__(self, x):\n",
    "        hidden_layer = tf.nn.sigmoid(tf.linalg.matmul(x, self.W1))  # 隐含层前向传播\n",
    "        y_ = tf.nn.sigmoid(tf.linalg.matmul(hidden_layer, self.W2))  # 输出层前向传播\n",
    "        return y_\n",
    "\n",
    "def loss_fn(model, X, y):\n",
    "    y_ = model(X)  # 前向传播得到预测值\n",
    "    # 使用 MSE 损失函数，并使用 reduce_mean 计算样本总损失\n",
    "    loss = tf.reduce_mean(mean_squared_error(y_true=y, y_pred=y_))\n",
    "    return loss\n",
    "\n",
    "model = Model()  # 实例化类\n",
    "y_ = model(X)  # 测试输入\n",
    "loss = loss_fn(model, X, y)\n",
    "loss"
   ]
  },
  {
   "cell_type": "code",
   "execution_count": 43,
   "metadata": {},
   "outputs": [
    {
     "name": "stdout",
     "output_type": "stream",
     "text": [
      "Epoch [000/200], Loss: [1.2723]\n",
      "Epoch [100/200], Loss: [0.9051]\n",
      "Epoch [200/200], Loss: [0.8889]\n"
     ]
    }
   ],
   "source": [
    "EPOCHS = 200  # 迭代 200 次\n",
    "LEARNING_RATE = 0.1  # 学习率\n",
    "# 定义 SGD 优化器，设定学习率，\n",
    "optimizer = tf.optimizers.SGD(learning_rate=0.1)\n",
    "optimizer\n",
    "\n",
    "loss_list = []  # 存放每一次 loss\n",
    "model = Model()  # 实例化类\n",
    "for epoch in range(EPOCHS):\n",
    "    with tf.GradientTape() as tape:\n",
    "        loss = loss_fn(model, X, y)  # 计算 Loss，包含前向传播过程\n",
    "        loss_list.append(loss)  # 保存每次迭代 loss\n",
    "\n",
    "    grads = tape.gradient(loss, [model.W1, model.W2])  # 输出自动微分结果\n",
    "    optimizer.apply_gradients(zip(grads, [model.W1, model.W2]))  # 使用优化器更新梯度\n",
    "\n",
    "    # 每 100 个 Epoch 输出各项指标\n",
    "    if epoch == 0:\n",
    "        print(f\"Epoch [000/{EPOCHS}], Loss: [{loss:.4f}]\")\n",
    "    elif (epoch + 1) % 100 == 0:\n",
    "        print(f\"Epoch [{epoch+1}/{EPOCHS}], Loss: [{loss:.4f}]\")"
   ]
  },
  {
   "cell_type": "code",
   "execution_count": 44,
   "metadata": {},
   "outputs": [
    {
     "data": {
      "text/plain": [
       "[<matplotlib.lines.Line2D at 0x1af8c243950>]"
      ]
     },
     "execution_count": 44,
     "metadata": {},
     "output_type": "execute_result"
    },
    {
     "data": {
      "image/png": "[encoded data removed]",
      "text/plain": [
       "<Figure size 640x480 with 1 Axes>"
      ]
     },
     "metadata": {},
     "output_type": "display_data"
    }
   ],
   "source": [
    "from matplotlib import pyplot as plt\n",
    "\n",
    "plt.plot(loss_list)  # 绘制 loss 变化图像"
   ]
  },
  {
   "cell_type": "markdown",
   "metadata": {},
   "source": [
    "## DIGITS 分类"
   ]
  },
  {
   "cell_type": "code",
   "execution_count": 45,
   "metadata": {},
   "outputs": [
    {
     "data": {
      "text/plain": [
       "(1797,)"
      ]
     },
     "execution_count": 45,
     "metadata": {},
     "output_type": "execute_result"
    }
   ],
   "source": [
    "from sklearn.datasets import load_digits\n",
    "import numpy as np\n",
    "\n",
    "digits = load_digits()  # 读取数据\n",
    "\n",
    "digits_X = digits.data  # 特征值\n",
    "digits_y = digits.target  # 标签值\n",
    "\n",
    "digits_X.shape, digits_y.shape\n",
    "\n",
    "digits_y.reshape(-1).shape"
   ]
  },
  {
   "cell_type": "code",
   "execution_count": 46,
   "metadata": {},
   "outputs": [
    {
     "data": {
      "text/plain": [
       "(1797, 10)"
      ]
     },
     "execution_count": 46,
     "metadata": {},
     "output_type": "execute_result"
    }
   ],
   "source": [
    "digits_y = np.eye(10)[digits_y.reshape(-1)]\n",
    "digits_y.shape"
   ]
  },
  {
   "cell_type": "code",
   "execution_count": 47,
   "metadata": {},
   "outputs": [
    {
     "data": {
      "text/plain": [
       "((1437, 64), (360, 64), (1437, 10), (360, 10))"
      ]
     },
     "execution_count": 47,
     "metadata": {},
     "output_type": "execute_result"
    }
   ],
   "source": [
    "from sklearn.model_selection import train_test_split\n",
    "\n",
    "X_train, X_test, y_train, y_test = train_test_split(\n",
    "    digits_X, digits_y, test_size=0.2, random_state=1\n",
    ")\n",
    "\n",
    "X_train.shape, X_test.shape, y_train.shape, y_test.shape"
   ]
  },
  {
   "cell_type": "code",
   "execution_count": 48,
   "metadata": {},
   "outputs": [],
   "source": [
    "import tensorflow as tf\n",
    "\n",
    "\n",
    "class Model(object):\n",
    "    def __init__(self):\n",
    "        # 随机初始化张量参数\n",
    "        self.W1 = tf.Variable(tf.random.normal([64, 30]))\n",
    "        self.b1 = tf.Variable(tf.random.normal([30]))\n",
    "        self.W2 = tf.Variable(tf.random.normal([30, 10]))\n",
    "        self.b2 = tf.Variable(tf.random.normal([10]))\n",
    "\n",
    "    def __call__(self, x):\n",
    "        x = tf.cast(x, tf.float32)  # 转换输入数据类型\n",
    "        # 线性计算 + RELU 激活\n",
    "        fc1 = tf.nn.relu(tf.add(tf.matmul(x, self.W1), self.b1))  # 全连接层 1\n",
    "        fc2 = tf.add(tf.matmul(fc1, self.W2), self.b2)  # 全连接层 2\n",
    "        return fc2"
   ]
  },
  {
   "cell_type": "code",
   "execution_count": 49,
   "metadata": {},
   "outputs": [
    {
     "data": {
      "text/plain": [
       "array([0.02, 0.95, 0.03])"
      ]
     },
     "execution_count": 49,
     "metadata": {},
     "output_type": "execute_result"
    }
   ],
   "source": [
    "def softmax(x):\n",
    "    # Softmax 实现\n",
    "    exp_x = np.exp(x)\n",
    "    return exp_x / np.sum(exp_x)\n",
    "\n",
    "\n",
    "def loss_fn(model, x, y):\n",
    "    preds = model(x)\n",
    "    return tf.reduce_mean(\n",
    "        tf.nn.softmax_cross_entropy_with_logits(logits=preds, labels=y)\n",
    "    )\n",
    "\n",
    "def accuracy_fn(logits, labels):\n",
    "    preds = tf.argmax(logits, axis=1)  # 取值最大的索引，正好对应字符标签\n",
    "    labels = tf.argmax(labels, axis=1)\n",
    "    return tf.reduce_mean(tf.cast(tf.equal(preds, labels), tf.float32))\n",
    "np.round(softmax([-1.3, 2.6, -0.9]), 2)"
   ]
  },
  {
   "cell_type": "code",
   "execution_count": 50,
   "metadata": {},
   "outputs": [
    {
     "name": "stdout",
     "output_type": "stream",
     "text": [
      "Epoch [000/500], Accuracy: [0.04], Loss: [380.4020]\n",
      "Epoch [100/500], Accuracy: [0.89], Loss: [2.9798]\n",
      "Epoch [200/500], Accuracy: [0.91], Loss: [1.2084]\n",
      "Epoch [300/500], Accuracy: [0.91], Loss: [0.6689]\n",
      "Epoch [400/500], Accuracy: [0.93], Loss: [0.3868]\n",
      "Epoch [500/500], Accuracy: [0.93], Loss: [0.2065]\n"
     ]
    }
   ],
   "source": [
    "EPOCHS = 500  # 迭代此时\n",
    "LEARNING_RATE = 0.02  # 学习率\n",
    "model = Model()  # 实例化模型类\n",
    "for epoch in range(EPOCHS):\n",
    "    with tf.GradientTape() as tape:  # 追踪梯度\n",
    "        loss = loss_fn(model, X_train, y_train)\n",
    "\n",
    "    trainable_variables = [model.W1, model.b1, model.W2, model.b2]  # 需优化参数列表\n",
    "    grads = tape.gradient(loss, trainable_variables)  # 计算梯度\n",
    "\n",
    "    optimizer = tf.optimizers.Adam(learning_rate=LEARNING_RATE)  # Adam 优化器\n",
    "    optimizer.apply_gradients(zip(grads, trainable_variables))  # 更新梯度\n",
    "\n",
    "    accuracy = accuracy_fn(model(X_test), y_test)  # 计算准确度\n",
    "\n",
    "    # 每 100 个 Epoch 输出各项指标\n",
    "    if epoch == 0:\n",
    "        print(f\"Epoch [000/{EPOCHS}], Accuracy: [{accuracy:.2f}], Loss: [{loss:.4f}]\")\n",
    "    elif (epoch + 1) % 100 == 0:\n",
    "        print(\n",
    "            f\"Epoch [{epoch+1}/{EPOCHS}], Accuracy: [{accuracy:.2f}], Loss: [{loss:.4f}]\"\n",
    "        )"
   ]
  },
  {
   "cell_type": "code",
   "execution_count": 54,
   "metadata": {},
   "outputs": [
    {
     "data": {
      "text/html": [
       "<div>\n",
       "<style scoped>\n",
       "    .dataframe tbody tr th:only-of-type {\n",
       "        vertical-align: middle;\n",
       "    }\n",
       "\n",
       "    .dataframe tbody tr th {\n",
       "        vertical-align: top;\n",
       "    }\n",
       "\n",
       "    .dataframe thead th {\n",
       "        text-align: right;\n",
       "    }\n",
       "</style>\n",
       "<table border=\"1\" class=\"dataframe\">\n",
       "  <thead>\n",
       "    <tr style=\"text-align: right;\">\n",
       "      <th></th>\n",
       "      <th>buying</th>\n",
       "      <th>maint</th>\n",
       "      <th>doors</th>\n",
       "      <th>persons</th>\n",
       "      <th>lug_boot</th>\n",
       "      <th>safety</th>\n",
       "      <th>class</th>\n",
       "    </tr>\n",
       "  </thead>\n",
       "  <tbody>\n",
       "    <tr>\n",
       "      <th>0</th>\n",
       "      <td>vhigh</td>\n",
       "      <td>vhigh</td>\n",
       "      <td>2</td>\n",
       "      <td>2</td>\n",
       "      <td>small</td>\n",
       "      <td>low</td>\n",
       "      <td>unacc</td>\n",
       "    </tr>\n",
       "    <tr>\n",
       "      <th>1</th>\n",
       "      <td>vhigh</td>\n",
       "      <td>vhigh</td>\n",
       "      <td>2</td>\n",
       "      <td>2</td>\n",
       "      <td>small</td>\n",
       "      <td>med</td>\n",
       "      <td>unacc</td>\n",
       "    </tr>\n",
       "    <tr>\n",
       "      <th>2</th>\n",
       "      <td>vhigh</td>\n",
       "      <td>vhigh</td>\n",
       "      <td>2</td>\n",
       "      <td>2</td>\n",
       "      <td>small</td>\n",
       "      <td>high</td>\n",
       "      <td>unacc</td>\n",
       "    </tr>\n",
       "    <tr>\n",
       "      <th>3</th>\n",
       "      <td>vhigh</td>\n",
       "      <td>vhigh</td>\n",
       "      <td>2</td>\n",
       "      <td>2</td>\n",
       "      <td>med</td>\n",
       "      <td>low</td>\n",
       "      <td>unacc</td>\n",
       "    </tr>\n",
       "    <tr>\n",
       "      <th>4</th>\n",
       "      <td>vhigh</td>\n",
       "      <td>vhigh</td>\n",
       "      <td>2</td>\n",
       "      <td>2</td>\n",
       "      <td>med</td>\n",
       "      <td>med</td>\n",
       "      <td>unacc</td>\n",
       "    </tr>\n",
       "  </tbody>\n",
       "</table>\n",
       "</div>"
      ],
      "text/plain": [
       "  buying  maint doors persons lug_boot safety  class\n",
       "0  vhigh  vhigh     2       2    small    low  unacc\n",
       "1  vhigh  vhigh     2       2    small    med  unacc\n",
       "2  vhigh  vhigh     2       2    small   high  unacc\n",
       "3  vhigh  vhigh     2       2      med    low  unacc\n",
       "4  vhigh  vhigh     2       2      med    med  unacc"
      ]
     },
     "execution_count": 54,
     "metadata": {},
     "output_type": "execute_result"
    }
   ],
   "source": [
    "import pandas as pd\n",
    "\n",
    "# 加载数据集\n",
    "df = pd.read_csv(\"car.data\", header=None)\n",
    "# 设置列名\n",
    "df.columns = [\"buying\", \"maint\", \"doors\", \"persons\", \"lug_boot\", \"safety\", \"class\"]\n",
    "df.head()"
   ]
  },
  {
   "cell_type": "code",
   "execution_count": 55,
   "metadata": {},
   "outputs": [
    {
     "data": {
      "text/plain": [
       "((1382, 6), (346, 6), (1382,), (346,))"
      ]
     },
     "execution_count": 55,
     "metadata": {},
     "output_type": "execute_result"
    }
   ],
   "source": [
    "from sklearn.model_selection import train_test_split\n",
    "\n",
    "X = df.iloc[:, :-1]  # 特征值\n",
    "y = df[\"class\"]  # 目标\n",
    "\n",
    "X_train, X_test, y_train, y_test = train_test_split(X, y, test_size=0.2, random_state=1)    \n",
    "\n",
    "X_train.shape, X_test.shape, y_train.shape, y_test.shape"
   ]
  },
  {
   "cell_type": "code",
   "execution_count": 56,
   "metadata": {},
   "outputs": [
    {
     "data": {
      "text/plain": [
       "((1382, 21), (346, 21), (1382, 4), (346, 4))"
      ]
     },
     "execution_count": 56,
     "metadata": {},
     "output_type": "execute_result"
    }
   ],
   "source": [
    "# 将分类变量转换为独热编码\n",
    "X_train = pd.get_dummies(X_train).values\n",
    "X_test = pd.get_dummies(X_test).values\n",
    "y_train = pd.get_dummies(y_train).values\n",
    "y_test = pd.get_dummies(y_test).values\n",
    "X_train.shape, X_test.shape, y_train.shape, y_test.shape\n",
    "\n"
   ]
  }
 ],
 "metadata": {
  "kernelspec": {
   "display_name": "tf",
   "language": "python",
   "name": "python3"
  },
  "language_info": {
   "codemirror_mode": {
    "name": "ipython",
    "version": 3
   },
   "file_extension": ".py",
   "mimetype": "text/x-python",
   "name": "python",
   "nbconvert_exporter": "python",
   "pygments_lexer": "ipython3",
   "version": "3.12.9"
  }
 },
 "nbformat": 4,
 "nbformat_minor": 2
}
