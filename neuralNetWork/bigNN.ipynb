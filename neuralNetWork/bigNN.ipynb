{
 "cells": [
  {
   "cell_type": "markdown",
   "metadata": {},
   "source": [
    "## 手写数字识别"
   ]
  },
  {
   "cell_type": "code",
   "execution_count": 1,
   "metadata": {},
   "outputs": [
    {
     "data": {
      "text/plain": [
       "((60000, 28, 28, 1), (60000,), (10000, 28, 28, 1), (10000,))"
      ]
     },
     "execution_count": 1,
     "metadata": {},
     "output_type": "execute_result"
    }
   ],
   "source": [
    "# 此段数据读取代码无需掌握\n",
    "import gzip\n",
    "import numpy as np\n",
    "\n",
    "file_path = \"D:\\\\file\\\\vscode\\\\data\\\\MNIST\\\\\"\n",
    "\n",
    "def read_mnist(images_path, labels_path):\n",
    "    with gzip.open(file_path + labels_path, \"rb\") as labelsFile:\n",
    "        y = np.frombuffer(labelsFile.read(), dtype=np.uint8, offset=8)\n",
    "\n",
    "    with gzip.open(file_path + images_path, \"rb\") as imagesFile:\n",
    "        X = (\n",
    "            np.frombuffer(imagesFile.read(), dtype=np.uint8, offset=16)\n",
    "            .reshape(len(y), 784)\n",
    "            .reshape(len(y), 28, 28, 1)\n",
    "        )\n",
    "\n",
    "    return X, y\n",
    "\n",
    "\n",
    "train = {}\n",
    "test = {}\n",
    "\n",
    "train[\"X\"], train[\"y\"] = read_mnist(\n",
    "    \"train-images-idx3-ubyte.gz\", \"train-labels-idx1-ubyte.gz\"\n",
    ")\n",
    "test[\"X\"], test[\"y\"] = read_mnist(\n",
    "    \"t10k-images-idx3-ubyte.gz\", \"t10k-labels-idx1-ubyte.gz\"\n",
    ")\n",
    "\n",
    "train[\"X\"].shape, train[\"y\"].shape, test[\"X\"].shape, test[\"y\"].shape"
   ]
  },
  {
   "cell_type": "code",
   "execution_count": 2,
   "metadata": {},
   "outputs": [
    {
     "data": {
      "text/plain": [
       "<matplotlib.image.AxesImage at 0x1e4075838f0>"
      ]
     },
     "execution_count": 2,
     "metadata": {},
     "output_type": "execute_result"
    },
    {
     "data": {
      "image/png": "[encoded data removed]",
      "text/plain": [
       "<Figure size 640x480 with 1 Axes>"
      ]
     },
     "metadata": {},
     "output_type": "display_data"
    }
   ],
   "source": [
    "from matplotlib import pyplot as plt\n",
    "\n",
    "%matplotlib inline\n",
    "\n",
    "plt.imshow(train[\"X\"][0].reshape(28, 28), cmap=plt.cm.gray_r)"
   ]
  },
  {
   "cell_type": "code",
   "execution_count": 3,
   "metadata": {},
   "outputs": [
    {
     "data": {
      "text/plain": [
       "((60000, 32, 32, 1), (10000, 32, 32, 1), (60000, 10), (10000, 10))"
      ]
     },
     "execution_count": 3,
     "metadata": {},
     "output_type": "execute_result"
    }
   ],
   "source": [
    "# 样本 padding 填充\n",
    "X_train = np.pad(train[\"X\"], ((0, 0), (2, 2), (2, 2), (0, 0)), \"constant\")\n",
    "X_test = np.pad(test[\"X\"], ((0, 0), (2, 2), (2, 2), (0, 0)), \"constant\")\n",
    "# 标签独热编码\n",
    "y_train = np.eye(10)[train[\"y\"].reshape(-1)]\n",
    "y_test = np.eye(10)[test[\"y\"].reshape(-1)]\n",
    "\n",
    "X_train.shape, X_test.shape, y_train.shape, y_test.shape"
   ]
  },
  {
   "cell_type": "code",
   "execution_count": 4,
   "metadata": {},
   "outputs": [
    {
     "data": {
      "text/plain": [
       "<matplotlib.image.AxesImage at 0x1e407646ab0>"
      ]
     },
     "execution_count": 4,
     "metadata": {},
     "output_type": "execute_result"
    },
    {
     "data": {
      "image/png": "[encoded data removed]",
      "text/plain": [
       "<Figure size 640x480 with 1 Axes>"
      ]
     },
     "metadata": {},
     "output_type": "display_data"
    }
   ],
   "source": [
    "from matplotlib import pyplot as plt\n",
    "\n",
    "%matplotlib inline\n",
    "\n",
    "plt.imshow(X_train[0].reshape(32, 32), cmap=plt.cm.gray_r)"
   ]
  },
  {
   "cell_type": "markdown",
   "metadata": {},
   "source": [
    "## tensorflow 构建"
   ]
  },
  {
   "cell_type": "code",
   "execution_count": 5,
   "metadata": {},
   "outputs": [
    {
     "name": "stderr",
     "output_type": "stream",
     "text": [
      "d:\\file\\env\\conda\\envs\\network\\Lib\\site-packages\\keras\\src\\layers\\convolutional\\base_conv.py:107: UserWarning: Do not pass an `input_shape`/`input_dim` argument to a layer. When using Sequential models, prefer using an `Input(shape)` object as the first layer in the model instead.\n",
      "  super().__init__(activity_regularizer=activity_regularizer, **kwargs)\n"
     ]
    },
    {
     "data": {
      "text/html": [
       "<pre style=\"white-space:pre;overflow-x:auto;line-height:normal;font-family:Menlo,'DejaVu Sans Mono',consolas,'Courier New',monospace\"><span style=\"font-weight: bold\">Model: \"sequential\"</span>\n",
       "</pre>\n"
      ],
      "text/plain": [
       "\u001b[1mModel: \"sequential\"\u001b[0m\n"
      ]
     },
     "metadata": {},
     "output_type": "display_data"
    },
    {
     "data": {
      "text/html": [
       "<pre style=\"white-space:pre;overflow-x:auto;line-height:normal;font-family:Menlo,'DejaVu Sans Mono',consolas,'Courier New',monospace\">┏━━━━━━━━━━━━━━━━━━━━━━━━━━━━━━━━━┳━━━━━━━━━━━━━━━━━━━━━━━━┳━━━━━━━━━━━━━━━┓\n",
       "┃<span style=\"font-weight: bold\"> Layer (type)                    </span>┃<span style=\"font-weight: bold\"> Output Shape           </span>┃<span style=\"font-weight: bold\">       Param # </span>┃\n",
       "┡━━━━━━━━━━━━━━━━━━━━━━━━━━━━━━━━━╇━━━━━━━━━━━━━━━━━━━━━━━━╇━━━━━━━━━━━━━━━┩\n",
       "│ conv2d (<span style=\"color: #0087ff; text-decoration-color: #0087ff\">Conv2D</span>)                 │ (<span style=\"color: #00d7ff; text-decoration-color: #00d7ff\">None</span>, <span style=\"color: #00af00; text-decoration-color: #00af00\">28</span>, <span style=\"color: #00af00; text-decoration-color: #00af00\">28</span>, <span style=\"color: #00af00; text-decoration-color: #00af00\">6</span>)      │           <span style=\"color: #00af00; text-decoration-color: #00af00\">156</span> │\n",
       "├─────────────────────────────────┼────────────────────────┼───────────────┤\n",
       "│ average_pooling2d               │ (<span style=\"color: #00d7ff; text-decoration-color: #00d7ff\">None</span>, <span style=\"color: #00af00; text-decoration-color: #00af00\">14</span>, <span style=\"color: #00af00; text-decoration-color: #00af00\">14</span>, <span style=\"color: #00af00; text-decoration-color: #00af00\">6</span>)      │             <span style=\"color: #00af00; text-decoration-color: #00af00\">0</span> │\n",
       "│ (<span style=\"color: #0087ff; text-decoration-color: #0087ff\">AveragePooling2D</span>)              │                        │               │\n",
       "├─────────────────────────────────┼────────────────────────┼───────────────┤\n",
       "│ conv2d_1 (<span style=\"color: #0087ff; text-decoration-color: #0087ff\">Conv2D</span>)               │ (<span style=\"color: #00d7ff; text-decoration-color: #00d7ff\">None</span>, <span style=\"color: #00af00; text-decoration-color: #00af00\">10</span>, <span style=\"color: #00af00; text-decoration-color: #00af00\">10</span>, <span style=\"color: #00af00; text-decoration-color: #00af00\">16</span>)     │         <span style=\"color: #00af00; text-decoration-color: #00af00\">2,416</span> │\n",
       "├─────────────────────────────────┼────────────────────────┼───────────────┤\n",
       "│ average_pooling2d_1             │ (<span style=\"color: #00d7ff; text-decoration-color: #00d7ff\">None</span>, <span style=\"color: #00af00; text-decoration-color: #00af00\">5</span>, <span style=\"color: #00af00; text-decoration-color: #00af00\">5</span>, <span style=\"color: #00af00; text-decoration-color: #00af00\">16</span>)       │             <span style=\"color: #00af00; text-decoration-color: #00af00\">0</span> │\n",
       "│ (<span style=\"color: #0087ff; text-decoration-color: #0087ff\">AveragePooling2D</span>)              │                        │               │\n",
       "├─────────────────────────────────┼────────────────────────┼───────────────┤\n",
       "│ flatten (<span style=\"color: #0087ff; text-decoration-color: #0087ff\">Flatten</span>)               │ (<span style=\"color: #00d7ff; text-decoration-color: #00d7ff\">None</span>, <span style=\"color: #00af00; text-decoration-color: #00af00\">400</span>)            │             <span style=\"color: #00af00; text-decoration-color: #00af00\">0</span> │\n",
       "├─────────────────────────────────┼────────────────────────┼───────────────┤\n",
       "│ dense (<span style=\"color: #0087ff; text-decoration-color: #0087ff\">Dense</span>)                   │ (<span style=\"color: #00d7ff; text-decoration-color: #00d7ff\">None</span>, <span style=\"color: #00af00; text-decoration-color: #00af00\">120</span>)            │        <span style=\"color: #00af00; text-decoration-color: #00af00\">48,120</span> │\n",
       "├─────────────────────────────────┼────────────────────────┼───────────────┤\n",
       "│ dense_1 (<span style=\"color: #0087ff; text-decoration-color: #0087ff\">Dense</span>)                 │ (<span style=\"color: #00d7ff; text-decoration-color: #00d7ff\">None</span>, <span style=\"color: #00af00; text-decoration-color: #00af00\">84</span>)             │        <span style=\"color: #00af00; text-decoration-color: #00af00\">10,164</span> │\n",
       "├─────────────────────────────────┼────────────────────────┼───────────────┤\n",
       "│ dense_2 (<span style=\"color: #0087ff; text-decoration-color: #0087ff\">Dense</span>)                 │ (<span style=\"color: #00d7ff; text-decoration-color: #00d7ff\">None</span>, <span style=\"color: #00af00; text-decoration-color: #00af00\">10</span>)             │           <span style=\"color: #00af00; text-decoration-color: #00af00\">850</span> │\n",
       "└─────────────────────────────────┴────────────────────────┴───────────────┘\n",
       "</pre>\n"
      ],
      "text/plain": [
       "┏━━━━━━━━━━━━━━━━━━━━━━━━━━━━━━━━━┳━━━━━━━━━━━━━━━━━━━━━━━━┳━━━━━━━━━━━━━━━┓\n",
       "┃\u001b[1m \u001b[0m\u001b[1mLayer (type)                   \u001b[0m\u001b[1m \u001b[0m┃\u001b[1m \u001b[0m\u001b[1mOutput Shape          \u001b[0m\u001b[1m \u001b[0m┃\u001b[1m \u001b[0m\u001b[1m      Param #\u001b[0m\u001b[1m \u001b[0m┃\n",
       "┡━━━━━━━━━━━━━━━━━━━━━━━━━━━━━━━━━╇━━━━━━━━━━━━━━━━━━━━━━━━╇━━━━━━━━━━━━━━━┩\n",
       "│ conv2d (\u001b[38;5;33mConv2D\u001b[0m)                 │ (\u001b[38;5;45mNone\u001b[0m, \u001b[38;5;34m28\u001b[0m, \u001b[38;5;34m28\u001b[0m, \u001b[38;5;34m6\u001b[0m)      │           \u001b[38;5;34m156\u001b[0m │\n",
       "├─────────────────────────────────┼────────────────────────┼───────────────┤\n",
       "│ average_pooling2d               │ (\u001b[38;5;45mNone\u001b[0m, \u001b[38;5;34m14\u001b[0m, \u001b[38;5;34m14\u001b[0m, \u001b[38;5;34m6\u001b[0m)      │             \u001b[38;5;34m0\u001b[0m │\n",
       "│ (\u001b[38;5;33mAveragePooling2D\u001b[0m)              │                        │               │\n",
       "├─────────────────────────────────┼────────────────────────┼───────────────┤\n",
       "│ conv2d_1 (\u001b[38;5;33mConv2D\u001b[0m)               │ (\u001b[38;5;45mNone\u001b[0m, \u001b[38;5;34m10\u001b[0m, \u001b[38;5;34m10\u001b[0m, \u001b[38;5;34m16\u001b[0m)     │         \u001b[38;5;34m2,416\u001b[0m │\n",
       "├─────────────────────────────────┼────────────────────────┼───────────────┤\n",
       "│ average_pooling2d_1             │ (\u001b[38;5;45mNone\u001b[0m, \u001b[38;5;34m5\u001b[0m, \u001b[38;5;34m5\u001b[0m, \u001b[38;5;34m16\u001b[0m)       │             \u001b[38;5;34m0\u001b[0m │\n",
       "│ (\u001b[38;5;33mAveragePooling2D\u001b[0m)              │                        │               │\n",
       "├─────────────────────────────────┼────────────────────────┼───────────────┤\n",
       "│ flatten (\u001b[38;5;33mFlatten\u001b[0m)               │ (\u001b[38;5;45mNone\u001b[0m, \u001b[38;5;34m400\u001b[0m)            │             \u001b[38;5;34m0\u001b[0m │\n",
       "├─────────────────────────────────┼────────────────────────┼───────────────┤\n",
       "│ dense (\u001b[38;5;33mDense\u001b[0m)                   │ (\u001b[38;5;45mNone\u001b[0m, \u001b[38;5;34m120\u001b[0m)            │        \u001b[38;5;34m48,120\u001b[0m │\n",
       "├─────────────────────────────────┼────────────────────────┼───────────────┤\n",
       "│ dense_1 (\u001b[38;5;33mDense\u001b[0m)                 │ (\u001b[38;5;45mNone\u001b[0m, \u001b[38;5;34m84\u001b[0m)             │        \u001b[38;5;34m10,164\u001b[0m │\n",
       "├─────────────────────────────────┼────────────────────────┼───────────────┤\n",
       "│ dense_2 (\u001b[38;5;33mDense\u001b[0m)                 │ (\u001b[38;5;45mNone\u001b[0m, \u001b[38;5;34m10\u001b[0m)             │           \u001b[38;5;34m850\u001b[0m │\n",
       "└─────────────────────────────────┴────────────────────────┴───────────────┘\n"
      ]
     },
     "metadata": {},
     "output_type": "display_data"
    },
    {
     "data": {
      "text/html": [
       "<pre style=\"white-space:pre;overflow-x:auto;line-height:normal;font-family:Menlo,'DejaVu Sans Mono',consolas,'Courier New',monospace\"><span style=\"font-weight: bold\"> Total params: </span><span style=\"color: #00af00; text-decoration-color: #00af00\">61,706</span> (241.04 KB)\n",
       "</pre>\n"
      ],
      "text/plain": [
       "\u001b[1m Total params: \u001b[0m\u001b[38;5;34m61,706\u001b[0m (241.04 KB)\n"
      ]
     },
     "metadata": {},
     "output_type": "display_data"
    },
    {
     "data": {
      "text/html": [
       "<pre style=\"white-space:pre;overflow-x:auto;line-height:normal;font-family:Menlo,'DejaVu Sans Mono',consolas,'Courier New',monospace\"><span style=\"font-weight: bold\"> Trainable params: </span><span style=\"color: #00af00; text-decoration-color: #00af00\">61,706</span> (241.04 KB)\n",
       "</pre>\n"
      ],
      "text/plain": [
       "\u001b[1m Trainable params: \u001b[0m\u001b[38;5;34m61,706\u001b[0m (241.04 KB)\n"
      ]
     },
     "metadata": {},
     "output_type": "display_data"
    },
    {
     "data": {
      "text/html": [
       "<pre style=\"white-space:pre;overflow-x:auto;line-height:normal;font-family:Menlo,'DejaVu Sans Mono',consolas,'Courier New',monospace\"><span style=\"font-weight: bold\"> Non-trainable params: </span><span style=\"color: #00af00; text-decoration-color: #00af00\">0</span> (0.00 B)\n",
       "</pre>\n"
      ],
      "text/plain": [
       "\u001b[1m Non-trainable params: \u001b[0m\u001b[38;5;34m0\u001b[0m (0.00 B)\n"
      ]
     },
     "metadata": {},
     "output_type": "display_data"
    }
   ],
   "source": [
    "import tensorflow as tf\n",
    "\n",
    "model = tf.keras.Sequential()  # 构建顺序模型\n",
    "\n",
    "# 卷积层，6 个 5x5 卷积核，步长为 1，relu 激活，第一层需指定 input_shape\n",
    "model.add(\n",
    "    tf.keras.layers.Conv2D(\n",
    "        filters=6,\n",
    "        kernel_size=(5, 5),\n",
    "        strides=(1, 1),\n",
    "        activation=\"relu\",\n",
    "        input_shape=(32, 32, 1),\n",
    "    )\n",
    ")\n",
    "# 平均池化，池化窗口默认为 2\n",
    "model.add(tf.keras.layers.AveragePooling2D(pool_size=(2, 2), strides=2))\n",
    "# 卷积层，16 个 5x5 卷积核，步为 1，relu 激活\n",
    "model.add(\n",
    "    tf.keras.layers.Conv2D(\n",
    "        filters=16, kernel_size=(5, 5), strides=(1, 1), activation=\"relu\"\n",
    "    )\n",
    ")\n",
    "# 平均池化，池化窗口默认为 2\n",
    "model.add(tf.keras.layers.AveragePooling2D(pool_size=(2, 2), strides=2))\n",
    "# 需展平后才能与全连接层相连\n",
    "model.add(tf.keras.layers.Flatten())\n",
    "# 全连接层，输出为 120，relu 激活\n",
    "model.add(tf.keras.layers.Dense(units=120, activation=\"relu\"))\n",
    "# 全连接层，输出为 84，relu 激活\n",
    "model.add(tf.keras.layers.Dense(units=84, activation=\"relu\"))\n",
    "# 全连接层，输出为 10，Softmax 激活\n",
    "model.add(tf.keras.layers.Dense(units=10, activation=\"softmax\"))\n",
    "# 查看网络结构\n",
    "model.summary()"
   ]
  },
  {
   "cell_type": "code",
   "execution_count": 6,
   "metadata": {},
   "outputs": [],
   "source": [
    "# 编译模型，Adam 优化器，多分类交叉熵损失函数，准确度评估\n",
    "model.compile(optimizer=\"adam\", loss=\"categorical_crossentropy\", metrics=[\"accuracy\"])"
   ]
  },
  {
   "cell_type": "code",
   "execution_count": 7,
   "metadata": {},
   "outputs": [
    {
     "name": "stdout",
     "output_type": "stream",
     "text": [
      "Epoch 1/2\n",
      "\u001b[1m938/938\u001b[0m \u001b[32m━━━━━━━━━━━━━━━━━━━━\u001b[0m\u001b[37m\u001b[0m \u001b[1m3s\u001b[0m 2ms/step - accuracy: 0.8515 - loss: 0.9716 - val_accuracy: 0.9770 - val_loss: 0.0740\n",
      "Epoch 2/2\n",
      "\u001b[1m938/938\u001b[0m \u001b[32m━━━━━━━━━━━━━━━━━━━━\u001b[0m\u001b[37m\u001b[0m \u001b[1m2s\u001b[0m 2ms/step - accuracy: 0.9785 - loss: 0.0698 - val_accuracy: 0.9832 - val_loss: 0.0536\n"
     ]
    },
    {
     "data": {
      "text/plain": [
       "<keras.src.callbacks.history.History at 0x1e44c66aa20>"
      ]
     },
     "execution_count": 7,
     "metadata": {},
     "output_type": "execute_result"
    }
   ],
   "source": [
    "# 模型训练及评估\n",
    "model.fit(X_train, y_train, batch_size=64, epochs=2, validation_data=(X_test, y_test))"
   ]
  },
  {
   "cell_type": "markdown",
   "metadata": {},
   "source": [
    "## pytorch 实现"
   ]
  },
  {
   "cell_type": "code",
   "execution_count": 19,
   "metadata": {},
   "outputs": [],
   "source": [
    "import torch\n",
    "import torch.nn as nn\n",
    "import torch.nn.functional as F\n",
    "\n",
    "\n",
    "class LeNet(nn.Module):\n",
    "    def __init__(self):\n",
    "        super(LeNet, self).__init__()\n",
    "        # 卷积层 1\n",
    "        self.conv1 = nn.Conv2d(\n",
    "            in_channels=1, out_channels=6, kernel_size=(5, 5), stride=1\n",
    "        )\n",
    "        # 池化层 1\n",
    "        self.pool1 = nn.AvgPool2d(kernel_size=(2, 2))\n",
    "        # 卷积层 2\n",
    "        self.conv2 = nn.Conv2d(\n",
    "            in_channels=6, out_channels=16, kernel_size=(5, 5), stride=1\n",
    "        )\n",
    "        # 池化层 2\n",
    "        self.pool2 = nn.AvgPool2d(kernel_size=(2, 2))\n",
    "        # 全连接层\n",
    "        self.fc1 = nn.Linear(in_features=5 * 5 * 16, out_features=120)\n",
    "        self.fc2 = nn.Linear(in_features=120, out_features=84)\n",
    "        self.fc3 = nn.Linear(in_features=84, out_features=10)\n",
    "\n",
    "    def forward(self, x):\n",
    "        x = F.relu(self.conv1(x))\n",
    "        x = self.pool1(x)\n",
    "        x = F.relu(self.conv2(x))\n",
    "        x = self.pool2(x)\n",
    "        x = x.reshape(-1, 5 * 5 * 16)\n",
    "        x = F.relu(self.fc1(x))\n",
    "        x = F.relu(self.fc2(x))\n",
    "        x = F.softmax(self.fc3(x), dim=1)\n",
    "        return x"
   ]
  },
  {
   "cell_type": "code",
   "execution_count": 20,
   "metadata": {},
   "outputs": [
    {
     "data": {
      "text/plain": [
       "LeNet(\n",
       "  (conv1): Conv2d(1, 6, kernel_size=(5, 5), stride=(1, 1))\n",
       "  (pool1): AvgPool2d(kernel_size=(2, 2), stride=(2, 2), padding=0)\n",
       "  (conv2): Conv2d(6, 16, kernel_size=(5, 5), stride=(1, 1))\n",
       "  (pool2): AvgPool2d(kernel_size=(2, 2), stride=(2, 2), padding=0)\n",
       "  (fc1): Linear(in_features=400, out_features=120, bias=True)\n",
       "  (fc2): Linear(in_features=120, out_features=84, bias=True)\n",
       "  (fc3): Linear(in_features=84, out_features=10, bias=True)\n",
       ")"
      ]
     },
     "execution_count": 20,
     "metadata": {},
     "output_type": "execute_result"
    }
   ],
   "source": [
    "model = LeNet()\n",
    "model"
   ]
  },
  {
   "cell_type": "code",
   "execution_count": 21,
   "metadata": {},
   "outputs": [
    {
     "data": {
      "text/plain": [
       "tensor([[9.2978e-05, 1.7123e-02, 8.6989e-02, 7.0102e-04, 3.4180e-04, 8.6692e-01,\n",
       "         2.9725e-03, 1.2741e-02, 7.6293e-03, 4.4861e-03]],\n",
       "       grad_fn=<SoftmaxBackward0>)"
      ]
     },
     "execution_count": 21,
     "metadata": {},
     "output_type": "execute_result"
    }
   ],
   "source": [
    "model(torch.Tensor(X_train[0]).reshape(-1, 1, 32, 32))"
   ]
  },
  {
   "cell_type": "code",
   "execution_count": 22,
   "metadata": {},
   "outputs": [
    {
     "data": {
      "text/plain": [
       "(<torch.utils.data.dataset.TensorDataset at 0x1e48b867bc0>,\n",
       " <torch.utils.data.dataset.TensorDataset at 0x1e416f47ec0>)"
      ]
     },
     "execution_count": 22,
     "metadata": {},
     "output_type": "execute_result"
    }
   ],
   "source": [
    "import torch.utils.data\n",
    "\n",
    "# 依次传入样本和标签张量，制作训练数据集和测试数据集\n",
    "train_data = torch.utils.data.TensorDataset(\n",
    "    torch.Tensor(X_train), torch.Tensor(train[\"y\"])\n",
    ")\n",
    "test_data = torch.utils.data.TensorDataset(\n",
    "    torch.Tensor(X_test), torch.Tensor(test[\"y\"])\n",
    ")\n",
    "\n",
    "train_data, test_data"
   ]
  },
  {
   "cell_type": "code",
   "execution_count": 23,
   "metadata": {},
   "outputs": [
    {
     "data": {
      "text/plain": [
       "(<torch.utils.data.dataloader.DataLoader at 0x1e48c23f9e0>,\n",
       " <torch.utils.data.dataloader.DataLoader at 0x1e416e390a0>)"
      ]
     },
     "execution_count": 23,
     "metadata": {},
     "output_type": "execute_result"
    }
   ],
   "source": [
    "train_loader = torch.utils.data.DataLoader(train_data, batch_size=64, shuffle=True)\n",
    "test_loader = torch.utils.data.DataLoader(test_data, batch_size=64, shuffle=False)\n",
    "\n",
    "train_loader, test_loader"
   ]
  },
  {
   "cell_type": "code",
   "execution_count": 24,
   "metadata": {},
   "outputs": [],
   "source": [
    "loss_fn = nn.CrossEntropyLoss()  # 交叉熵损失函数\n",
    "opt = torch.optim.Adam(model.parameters(), lr=0.001)  # Adam 优化器"
   ]
  },
  {
   "cell_type": "code",
   "execution_count": 25,
   "metadata": {},
   "outputs": [],
   "source": [
    "def fit(epochs, model, opt):\n",
    "    # 全数据集迭代 epochs 次\n",
    "    print(\"================ Start Training =================\")\n",
    "    for epoch in range(epochs):\n",
    "        # 从数据加载器中读取 Batch 数据开始训练\n",
    "        for i, (images, labels) in enumerate(train_loader):\n",
    "            images = images.reshape(-1, 1, 32, 32)  # 对特征数据展平，变成 784\n",
    "            labels = labels.type(torch.LongTensor)  # 真实标签\n",
    "\n",
    "            outputs = model(images)  # 前向传播\n",
    "            loss = loss_fn(outputs, labels)  # 传入模型输出和真实标签\n",
    "\n",
    "            opt.zero_grad()  # 优化器梯度清零，否则会累计\n",
    "            loss.backward()  # 从最后 loss 开始反向传播\n",
    "            opt.step()  # 优化器迭代\n",
    "\n",
    "            # 自定义训练输出样式\n",
    "            if (i + 1) % 100 == 0:\n",
    "                print(\n",
    "                    \"Epoch [{}/{}], Batch [{}/{}], Train loss: [{:.3f}]\".format(\n",
    "                        epoch + 1, epochs, i + 1, len(train_loader), loss.item()\n",
    "                    )\n",
    "                )\n",
    "\n",
    "        # 每个 Epoch 执行一次测试\n",
    "        correct = 0\n",
    "        total = 0\n",
    "        for images, labels in test_loader:\n",
    "            images = images.reshape(-1, 1, 32, 32)\n",
    "            labels = labels.type(torch.LongTensor)\n",
    "\n",
    "            outputs = model(images)\n",
    "            # 得到输出最大值 _ 及其索引 predicted\n",
    "            _, predicted = torch.max(outputs.data, 1)\n",
    "\n",
    "            correct += (predicted == labels).sum().item()  # 如果预测结果和真实值相等则计数 +1\n",
    "            total += labels.size(0)  # 总测试样本数据计数\n",
    "\n",
    "        print(\n",
    "            \"============= Test accuracy: {:.3f} ==============\".format(correct / total)\n",
    "        )"
   ]
  },
  {
   "cell_type": "code",
   "execution_count": 26,
   "metadata": {},
   "outputs": [
    {
     "name": "stdout",
     "output_type": "stream",
     "text": [
      "================ Start Training =================\n",
      "Epoch [1/2], Batch [100/938], Train loss: [1.766]\n",
      "Epoch [1/2], Batch [200/938], Train loss: [1.627]\n",
      "Epoch [1/2], Batch [300/938], Train loss: [1.604]\n",
      "Epoch [1/2], Batch [400/938], Train loss: [1.657]\n",
      "Epoch [1/2], Batch [500/938], Train loss: [1.641]\n",
      "Epoch [1/2], Batch [600/938], Train loss: [1.601]\n",
      "Epoch [1/2], Batch [700/938], Train loss: [1.608]\n",
      "Epoch [1/2], Batch [800/938], Train loss: [1.497]\n",
      "Epoch [1/2], Batch [900/938], Train loss: [1.506]\n",
      "============= Test accuracy: 0.961 ==============\n",
      "Epoch [2/2], Batch [100/938], Train loss: [1.488]\n",
      "Epoch [2/2], Batch [200/938], Train loss: [1.481]\n",
      "Epoch [2/2], Batch [300/938], Train loss: [1.477]\n",
      "Epoch [2/2], Batch [400/938], Train loss: [1.490]\n",
      "Epoch [2/2], Batch [500/938], Train loss: [1.478]\n",
      "Epoch [2/2], Batch [600/938], Train loss: [1.477]\n",
      "Epoch [2/2], Batch [700/938], Train loss: [1.494]\n",
      "Epoch [2/2], Batch [800/938], Train loss: [1.477]\n",
      "Epoch [2/2], Batch [900/938], Train loss: [1.492]\n",
      "============= Test accuracy: 0.972 ==============\n"
     ]
    }
   ],
   "source": [
    "fit(epochs=2, model=model, opt=opt)"
   ]
  },
  {
   "cell_type": "markdown",
   "metadata": {},
   "source": []
  },
  {
   "cell_type": "code",
   "execution_count": 27,
   "metadata": {},
   "outputs": [
    {
     "data": {
      "text/plain": [
       "Sequential(\n",
       "  (0): Conv2d(1, 6, kernel_size=(5, 5), stride=(1, 1))\n",
       "  (1): ReLU()\n",
       "  (2): AvgPool2d(kernel_size=(2, 2), stride=(2, 2), padding=0)\n",
       "  (3): Conv2d(6, 16, kernel_size=(5, 5), stride=(1, 1))\n",
       "  (4): ReLU()\n",
       "  (5): AvgPool2d(kernel_size=(2, 2), stride=(2, 2), padding=0)\n",
       "  (6): Flatten()\n",
       "  (7): Linear(in_features=400, out_features=120, bias=True)\n",
       "  (8): ReLU()\n",
       "  (9): Linear(in_features=120, out_features=84, bias=True)\n",
       "  (10): ReLU()\n",
       "  (11): Linear(in_features=84, out_features=10, bias=True)\n",
       "  (12): Softmax(dim=1)\n",
       ")"
      ]
     },
     "execution_count": 27,
     "metadata": {},
     "output_type": "execute_result"
    }
   ],
   "source": [
    "class Flatten(nn.Module):\n",
    "    def forward(self, input):\n",
    "        return input.reshape(input.size(0), -1)\n",
    "\n",
    "\n",
    "# 构建 Sequential 容器结构\n",
    "model_s = nn.Sequential(\n",
    "    nn.Conv2d(1, 6, (5, 5), 1),\n",
    "    nn.ReLU(),\n",
    "    nn.AvgPool2d((2, 2)),\n",
    "    nn.Conv2d(6, 16, (5, 5), 1),\n",
    "    nn.ReLU(),\n",
    "    nn.AvgPool2d((2, 2)),\n",
    "    Flatten(),\n",
    "    nn.Linear(5 * 5 * 16, 120),\n",
    "    nn.ReLU(),\n",
    "    nn.Linear(120, 84),\n",
    "    nn.ReLU(),\n",
    "    nn.Linear(84, 10),\n",
    "    nn.Softmax(dim=1),\n",
    ")\n",
    "\n",
    "model_s"
   ]
  },
  {
   "cell_type": "code",
   "execution_count": 28,
   "metadata": {},
   "outputs": [
    {
     "name": "stdout",
     "output_type": "stream",
     "text": [
      "================ Start Training =================\n",
      "Epoch [1/2], Batch [100/938], Train loss: [1.559]\n",
      "Epoch [1/2], Batch [200/938], Train loss: [1.655]\n",
      "Epoch [1/2], Batch [300/938], Train loss: [1.638]\n",
      "Epoch [1/2], Batch [400/938], Train loss: [1.572]\n",
      "Epoch [1/2], Batch [500/938], Train loss: [1.544]\n",
      "Epoch [1/2], Batch [600/938], Train loss: [1.520]\n",
      "Epoch [1/2], Batch [700/938], Train loss: [1.509]\n",
      "Epoch [1/2], Batch [800/938], Train loss: [1.500]\n",
      "Epoch [1/2], Batch [900/938], Train loss: [1.514]\n",
      "============= Test accuracy: 0.969 ==============\n",
      "Epoch [2/2], Batch [100/938], Train loss: [1.476]\n",
      "Epoch [2/2], Batch [200/938], Train loss: [1.492]\n",
      "Epoch [2/2], Batch [300/938], Train loss: [1.483]\n",
      "Epoch [2/2], Batch [400/938], Train loss: [1.510]\n",
      "Epoch [2/2], Batch [500/938], Train loss: [1.477]\n",
      "Epoch [2/2], Batch [600/938], Train loss: [1.486]\n",
      "Epoch [2/2], Batch [700/938], Train loss: [1.477]\n",
      "Epoch [2/2], Batch [800/938], Train loss: [1.492]\n",
      "Epoch [2/2], Batch [900/938], Train loss: [1.478]\n",
      "============= Test accuracy: 0.975 ==============\n"
     ]
    }
   ],
   "source": [
    "opt_s = torch.optim.Adam(model_s.parameters(), lr=0.001)  # Adam 优化器\n",
    "fit(epochs=2, model=model_s, opt=opt_s)"
   ]
  }
 ],
 "metadata": {
  "kernelspec": {
   "display_name": "network",
   "language": "python",
   "name": "python3"
  },
  "language_info": {
   "codemirror_mode": {
    "name": "ipython",
    "version": 3
   },
   "file_extension": ".py",
   "mimetype": "text/x-python",
   "name": "python",
   "nbconvert_exporter": "python",
   "pygments_lexer": "ipython3",
   "version": "3.12.9"
  }
 },
 "nbformat": 4,
 "nbformat_minor": 2
}
