{
 "cells": [
  {
   "cell_type": "markdown",
   "metadata": {},
   "source": [
    "## 贝叶斯公式\n",
    "\n",
    "简易推导:\n",
    "首先根据交集的交换可得:\n",
    "$$ P(A \\cap B) = P(B \\cap A)$$\n",
    "同时, 后验概率与对应先验概率的乘积为两者概率的交集: \n",
    "$$ P(A|B)P(B) = P(A \\cap B) = P(B \\cap A) = P(B|A)P(A) $$ \n",
    "综上可得公式:\n",
    "$$ P (A|B) = \\dfrac{P(B|A)\\, P(A)}{P(B)}$$\n",
    "可根据规则描述为 : 后验概率 = (似然性*先验概率)/标准化常量(证据)  \n",
    "其中A以及B为随机事件, 且P(B)不为零, P(A|B) 是指在B事件发生的情况下, A事件发生的概率  \n",
    "在bayes定理中每一项的名称\n",
    "- P(A|B) 是已知B发生后, A的条件概率, 又称A的后验概率. $P(A|B) = \\dfrac{P(A \\cap B)}{P(B)}$\n",
    "- P(A) 是A发生的概率, 称为先验概率(边缘概率), 不考虑其他事件下的概率.\n",
    "- P(B|A) 是已知A发生后, B的条件概率, 又称似然. $P(B|A) = \\dfrac{P(A \\cap B)}{P(A)}$\n",
    "- P(B) 是B发生的概率, 称为标准化常量(证据), 不考虑其他事件下的概率.  \n",
    "\n",
    "以核酸检测来举例:  \n",
    "检测概率| D | N\n",
    "---|---|---\n",
    "T| 99%| 1%\n",
    "F|1%  | 99%\n",
    "实际感染| 0.5% | 99.5%\n",
    "\n",
    "1. P(D) 代表感染概率, 设为 0.005\n",
    "2. P(N) 代表未感染概率, 为0.995\n",
    "3. P(+|D) 代表 感染者检验阳性的概率, 属于条件概率, 由于阳性检验概率为0.99 \n",
    "4. P(+|N) 代表 未感染者检验阳性的概率, 0.01\n",
    "5. P(+) 代表一共检验出多少阳性的比例\n",
    "   - 概率 = 身为感染者的概率 x 感染被验出阳性的概率 + 身为未感染者的概率 x 未感染却被验出阳性的概率\n",
    "   - $P(+) = P(D) \\cdot P(+|D) + P(N) \\cdot P(+|N) $\n",
    "6. P(D|+) 代表阳性时感染的概率\n",
    "   \n",
    "$$\n",
    "\\begin{aligned}\n",
    "P(D|+) \\quad &= \\quad \\dfrac{P(+|D) \\cdot P(D)}{P(+)} \\\\\n",
    "        &= \\quad \\dfrac{P(+|D) \\cdot P(D)}{P(D) \\cdot P(+|D) + P(N) \\cdot P(+|N)}  \\\\\n",
    "        &= \\quad \\dfrac{0.99 \\times 0.005}{0.99 \\times +0.005 + 0.995 \\times 0.01} \\\\\n",
    "        &\\approx \\quad 0.3322\n",
    "\\end{aligned}\n",
    "$$"
   ]
  },
  {
   "cell_type": "markdown",
   "metadata": {},
   "source": [
    "$$P(A_i | B) = \\dfrac{P(B|A_i)\\,P(A)}{\\Sigma_{j} P(B|A_i)\\,P(A_i)}$$"
   ]
  }
 ],
 "metadata": {
  "language_info": {
   "name": "python"
  }
 },
 "nbformat": 4,
 "nbformat_minor": 2
}
