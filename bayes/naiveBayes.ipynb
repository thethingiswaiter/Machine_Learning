{
 "cells": [
  {
   "cell_type": "markdown",
   "metadata": {},
   "source": [
    "## 朴素贝叶斯(Naive Bayes)\n",
    "\n",
    "- 基于贝叶斯计算预测函数时, 都要基于此公式: $$ P(y|x) = \\frac{P(x|y)P(y)}{P(x)}$$\n",
    "- $ P(y|x)$ 是给定参数x后y的概率, 也就是对应了预测函数, 也是所谓的后验概率\n",
    "- $ P(x|y)$ 是给定结果y后x的概率, 是根据结果推测最可能的参数, 也就是似然性\n",
    "- $ P(y)$ 是结果本身的为某值的概率, 是先验概率\n",
    "- $ P(x)$ 是参数发生的概率, 是先验概率, 一般可视为常量\n",
    "\n",
    "- 朴素贝叶斯的假设 参数条件是相互独立的, 即: $ x_i x_j | y(i \\neq j)$, 目的是为了简化运算, 每个参数条件都可以单独计算分布, 最后合并\n",
    "\n",
    "- 因此, 模型有: $$ P(y|x) = \\prod_{i=1}^{N}(P(x_i|y)P(y))$$\n",
    "\n"
   ]
  }
 ],
 "metadata": {
  "language_info": {
   "name": "python"
  }
 },
 "nbformat": 4,
 "nbformat_minor": 2
}
