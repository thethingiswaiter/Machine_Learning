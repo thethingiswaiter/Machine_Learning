{
 "cells": [
  {
   "cell_type": "markdown",
   "metadata": {},
   "source": [
    "## 期望最大算法\n",
    "\n",
    "- 主要解决的问题是: 具有隐变量的混合模型的参数估计, 即其极大似然估计\n",
    "\n",
    "- 对于简答的问题, 可以直接使用MLE直接求解 $\\theta_{mle} = \\arg\\max\\limits_{\\theta}logP(x|\\theta) $\n",
    "\n",
    "- 其隐变量的演化最大对数似然: $$ LL(\\theta | x ) = log P (x|\\theta )= log \\sum_{z} P(x,z|\\theta )$$"
   ]
  },
  {
   "cell_type": "markdown",
   "metadata": {},
   "source": [
    "##### E步\n",
    "\n",
    "- 基于参数 $\\theta^t$ 推断隐变量分布 $ P(x,z|\\theta^t)$ , 计算对数似然 $ LL(\\theta|x,z)$, 关于Z的期望: \n",
    "\n",
    "$$ Q(\\theta|\\theta^t) = E_{z|x,\\theta^t}LL(\\theta|x,z)$$\n"
   ]
  },
  {
   "cell_type": "markdown",
   "metadata": {},
   "source": [
    "##### M步\n",
    "\n",
    "- M步 假定隐变量Z已知, 推断参数 $\\theta$, 寻找最大化期望似然, 即\n",
    "\n",
    "$$ \\theta^{t+1} = \\arg\\max\\limits_{\\theta}Q(\\theta|\\theta^t)$$"
   ]
  },
  {
   "cell_type": "markdown",
   "metadata": {},
   "source": [
    "- EM的算法公式: $$ \\theta^{t+1} = \\arg\\max\\limits_\\theta\\int_zlogP(x,z|\\theta)\\cdot P(z|x,\\theta^t)dz$$\n",
    "\n",
    "    - x是给定数据, z是隐变量, $$ 是t时刻的参数\n",
    "    - $ P(z|x,\\theta^t)$ 是隐变量分布\n",
    "    - $logP(x,z|\\theta)$ 是最大化对数似然\n",
    "    - 积分后面的一坨也可以看成是期望 $E_{z|x,\\theta^t}[logP(x,z|\\theta)]$\n"
   ]
  }
 ],
 "metadata": {
  "kernelspec": {
   "display_name": "logit",
   "language": "python",
   "name": "python3"
  },
  "language_info": {
   "name": "python",
   "version": "3.10.14"
  }
 },
 "nbformat": 4,
 "nbformat_minor": 2
}
