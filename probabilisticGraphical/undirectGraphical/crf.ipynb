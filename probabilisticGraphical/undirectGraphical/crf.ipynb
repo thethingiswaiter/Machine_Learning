{
 "cells": [
  {
   "cell_type": "markdown",
   "metadata": {},
   "source": [
    "## 条件随机场 (Conditional Random Field)\n",
    "\n",
    "- 生成式模型关注的是联合概率 $P(x,y) $, 称上帝信息, 计算出全量信息后, 可用于各种操作, 如条件概率 $P(y|x)=\\frac{p(x,y)}{p(x)}$\n",
    "- 判别式模型关注的是条件概率 $ $, 需要信息量更少, 更易计算, CRF就属于判别式模型\n",
    "\n",
    "- 其演化可以看成最大熵判别模型加隐马尔可夫模型综合得到最大熵马尔可夫模型(MEMM), 条件随机场(CRF)是克服了MEMM的标签偏差问题后得到\n",
    "\n",
    "- CRF利用团包含单个标记和相邻标记来处理, 类似HMM中的发射矩阵和状态转移矩阵\n",
    "$$ P(y|x) = \\frac1Zexp(\\sum_j\\sum^{n-1}_{i=1}\\lambda_jt_j(y_{i+1},y_i,x,i) + \\sum_k\\sum^{n}_{i=1}\\mu_ks_k(y_i,x,i))$$\n",
    "\n",
    "- $t_j(y_{i+1},y_i,x,i)$是相邻位置的转移特征函数\n",
    "- $s_k(y_i,x,i)$ 是定义再观测序列的标记位置i上的状态特诊函数"
   ]
  }
 ],
 "metadata": {
  "language_info": {
   "name": "python"
  }
 },
 "nbformat": 4,
 "nbformat_minor": 2
}
