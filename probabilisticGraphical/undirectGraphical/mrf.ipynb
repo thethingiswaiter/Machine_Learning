{
 "cells": [
  {
   "cell_type": "markdown",
   "metadata": {},
   "source": [
    "## 马尔可夫随机场(Markov Random Field)\n",
    "\n",
    "- 因子有哦那个与定义概率分布函数, 又称势函数, 与团(clique)对应\n",
    "- 多个变量间的联合概率分布能基于团分解为多个因子的乘积\n",
    "- 对于n个变量 $x= \\{x_1,x_2,\\cdots,x_n\\} $, 所有图案构成的集合为C, 与团 $Q \\in C $对应的变量集合为 $ X_Q$, 则联合概率P(x)为: \n",
    "$$ P(x) = \\frac1Z\\prod_{Q\\in C}\\phi_Q(X_Q)$$\n",
    "\n",
    "- 其中 $ \\phi_Q$时与团Q对应的是函数, $ Z = \\Sigma_x\\prod_{Q\\in C}\\phi_Q(X_Q)$ 为归一化因子\n",
    "\n",
    "- 全局马尔可夫性: 将变量组织成团, 团之间依旧遵循链式独立法则"
   ]
  }
 ],
 "metadata": {
  "language_info": {
   "name": "python"
  }
 },
 "nbformat": 4,
 "nbformat_minor": 2
}
