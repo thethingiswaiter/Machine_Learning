{
 "cells": [
  {
   "cell_type": "markdown",
   "metadata": {},
   "source": [
    "## Filter 问题\n",
    "\n",
    "- 求解问题: $ P(Z_t| x_1,x_2,\\cdots,x_t)$"
   ]
  },
  {
   "cell_type": "markdown",
   "metadata": {},
   "source": [
    "##### step1: prediction\n",
    "\n",
    "- 先给zt一个先验\n",
    "\n",
    "- $ P(Z_t| x_1,x_2,\\cdots,x_{t-1}) = \\int_{Z_{t-1}}P(Z_t|Z_{t-1})\\cdot P(Z_{t-1}| x_1,x_2,\\cdots,x_{t-1})d_{Z_{t-1}}$"
   ]
  },
  {
   "cell_type": "markdown",
   "metadata": {},
   "source": [
    "##### setp2: update\n",
    "\n",
    "- 求zt后验\n",
    "\n",
    "- $ P(Z_t| x_1,x_2,\\cdots,x_t) \\propto P(x_t|Z_t)\\cdot P(Z_t| x_1,x_2,\\cdots,x_{t-1})$"
   ]
  }
 ],
 "metadata": {
  "language_info": {
   "name": "python"
  }
 },
 "nbformat": 4,
 "nbformat_minor": 2
}
