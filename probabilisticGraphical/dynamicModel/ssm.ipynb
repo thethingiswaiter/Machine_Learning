{
 "cells": [
  {
   "cell_type": "markdown",
   "metadata": {},
   "source": [
    "## 状态空间模型(State Space Model)\n",
    "\n",
    "- 状态空间模型属于动态模型"
   ]
  },
  {
   "cell_type": "markdown",
   "metadata": {},
   "source": [
    "#### Learning\n",
    "\n",
    "- 在看到的数据中学习到模型的参数\n",
    "- $ \\lambda_{MLE} = \\arg\\max\\limits_\\lambda P(X|\\lambda)$\n",
    "- 使用Baum Welch算法, 属于EM算法的一种"
   ]
  },
  {
   "cell_type": "markdown",
   "metadata": {},
   "source": [
    "#### Inference\n",
    "\n",
    "- 在看到的数据中做推断, 推断出后验分布 $P(Z|X)$ , x之间是有关联的, 非iid"
   ]
  },
  {
   "cell_type": "markdown",
   "metadata": {},
   "source": [
    "##### decoding\n",
    "\n",
    "- $P(z_1,z_2,\\cdots,z_t|x_1,x_2,\\cdots,x_t)$\n",
    "- $ Z = \\arg\\max\\limits_Z P(Z|X)$\n",
    "- 使用Viterbi算法, 计算隐变量序列"
   ]
  },
  {
   "cell_type": "markdown",
   "metadata": {},
   "source": [
    "##### prob of evidence\n",
    "\n",
    "- $P(X|\\lambda) = P(x_1,x_2,\\cdots,x_T|\\lambda)$\n",
    "- 求P(X), 前向与后向算法"
   ]
  },
  {
   "cell_type": "markdown",
   "metadata": {},
   "source": [
    "##### filtering\n",
    "\n",
    "- $P(z_t|x_1,x_2,\\cdots,x_t)$, 比 $P(z_t|x_t)$更精确, 适合做online问题\n",
    "- 使用前向算法"
   ]
  },
  {
   "cell_type": "markdown",
   "metadata": {},
   "source": [
    "##### smothing\n",
    "\n",
    "- $P(z_t|x_1,x_2,\\cdots,x_T)$, 全量序列, 适合做offline问题\n",
    "- 使用前向后向算法"
   ]
  },
  {
   "cell_type": "markdown",
   "metadata": {},
   "source": [
    "##### prediction\n",
    "\n",
    "- $P(z_{t+1}|x_1,x_2,\\cdots,x_t) = \\sum_{z_t} P(z_{t+1}| z_t) \\cdot P(z_t|x_1,x_2,\\cdots,x_t)$\n",
    "- 等于转移矩阵与filtering问题乘和\n",
    "- $P(x_{t+1}|x_1,x_2,\\cdots,x_t) = \\sum_{z_t} P(z_{t+1}| x_{t+1}) \\cdot P(z_{t+1}|x_1,x_2,\\cdots,x_t)$\n",
    "- 等于发射矩阵与上一个结果的乘和"
   ]
  }
 ],
 "metadata": {
  "language_info": {
   "name": "python"
  }
 },
 "nbformat": 4,
 "nbformat_minor": 2
}
