{
 "cells": [
  {
   "cell_type": "markdown",
   "metadata": {},
   "source": [
    "## 背景\n",
    "\n",
    "$$ Linear Regression \\begin{cases}\n",
    "1.线性 \\underrightarrow{x}  \n",
    "        \\begin{cases}\n",
    "            属性非线性 : 特征转换(多项式回归)\\\\\n",
    "            全局非线性 : 线性分类(激活函数)\\\\\n",
    "            系数非线性 : 感知机, 神经网络\n",
    "        \\end{cases}\n",
    "        \\\\\n",
    "2. 全局性 \\underrightarrow{x} 线性样条回归, 决策树\\\\\n",
    "3. 数据未加工\\underrightarrow{x} PCA, 流型\n",
    "\\end{cases}\n",
    "$$\n",
    "\n",
    "$$ Linear Cliassification \\begin{cases}\n",
    "硬分类  y\\in \\{-1, 1\\}  \\begin{cases}\n",
    "            线性判别分析(Fisher)\\\\\n",
    "            感知机(Perceptron)\n",
    "        \\end{cases}\n",
    "        \\\\\n",
    "软分类 y\\in (0, 1)  \\begin{cases}\n",
    "            概率生成模型\\begin{cases}\n",
    "                        高斯判别分析(Gaussian Discriminate Analysis)\\\\\n",
    "                        朴素贝叶斯(Naive Bayes)\n",
    "        \\end{cases}\\\\\n",
    "            概率判别模型 : 逻辑回归(Logistics Regression)\\\\\n",
    "        \\end{cases}\n",
    "\\end{cases}\n",
    "$$"
   ]
  }
 ],
 "metadata": {
  "language_info": {
   "name": "python"
  }
 },
 "nbformat": 4,
 "nbformat_minor": 2
}
