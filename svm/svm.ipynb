{
 "cells": [
  {
   "cell_type": "markdown",
   "metadata": {},
   "source": [
    "## 硬间隔\n",
    "\n",
    "- 最初是为了解决二分类问题, 使用 $w^Tx + b$超平面将两类数据分隔, 返回结果为判别模型, 而非概率模型:"
   ]
  },
  {
   "cell_type": "markdown",
   "metadata": {},
   "source": [
    "$$ f(w) = sign(w^Tx + b)$$ \n",
    "\n",
    "- 对间隔最大化进行数据表达: \n",
    "\n",
    "$$\\begin{cases}\n",
    "目标: &\\max margin(w,b) \\\\\n",
    "条件: &s.t.\\; y_i(w^Tx+b) >0\n",
    "\\end{cases}$$\n",
    "\n",
    "- 因为求的是距离超平面最近点的最远距离, 所以公式可以表达为:\n",
    "\n",
    "$$\\begin{cases}\n",
    "&\\max\\limits_{w,b}\\min\\limits_{i} \\frac1{\\lVert w\\rVert}|w^Tx_i +b| = \\max\\limits_{w,b}\\frac1{\\lVert w\\rVert}\\min\\limits_{i} y_i(w^Tx_i +b)\\\\\n",
    "&s.t.\\; y_i(w^Tx+b) >0\n",
    "\\end{cases}$$"
   ]
  },
  {
   "cell_type": "markdown",
   "metadata": {},
   "source": [
    "- 引入最小间隔 $\\gamma$, 令 $ \\min\\limits_{i} y_i(w^Tx_i +b) = \\gamma$, 所以对所有数据点会有 $y_i(w^Tx_i +b) \\geq \\gamma$, 引入后的公式为:\n",
    "\n",
    "$$\\begin{cases}\n",
    "&\\max\\limits_{w,b}\\frac\\gamma{\\lVert w\\rVert}\\\\\n",
    "&s.t.\\; y_i(w^Tx+b) \\geq \\gamma\n",
    "\\end{cases}$$\n",
    "\n",
    "- 因为是个优化问题, 并不关心距离 $\\gamma$具体数据, 可以将其视作基量等于1, 可得:\n",
    "\n",
    "$$\\begin{cases}\n",
    "&\\max\\limits_{w,b}\\frac1{\\lVert w\\rVert} = \\min\\limits_{w,b}\\frac12w^Tw\\\\\n",
    "&s.t.\\; 1 - y_i(w^Tx+b) \\leq 0, for\\forall i = \\{i,...,N\\}\n",
    "\\end{cases}$$"
   ]
  },
  {
   "cell_type": "markdown",
   "metadata": {},
   "source": [
    "- 代入拉格朗日函数: $$ L(w,b,\\gamma) = \\frac12w^Tw + \\sum_{i=1}^N\\lambda_i(1 - y_i(w^Tx_i + b))$$\n",
    "\n",
    "- 无约束模型(为什么能这样直接跳过, 详细看视频吧): \n",
    "\n",
    "$$\\begin{cases}\n",
    "&\\min\\limits_{w,b}\\max\\limits_{\\lambda}L(w,b,\\gamma)\\\\\n",
    "&s.t.\\; \\lambda \\geq 0\n",
    "\\end{cases}$$\n"
   ]
  },
  {
   "cell_type": "markdown",
   "metadata": {},
   "source": [
    "- 因为对偶关系:  $\\min\\max L \\geq \\max\\min L $, 所以有:\n",
    "\n",
    "$$\\begin{cases}\n",
    "&\\max\\limits_{\\lambda}\\min\\limits_{w,b}L(w,b,\\gamma)\\\\\n",
    "&s.t.\\; \\lambda \\geq 0\n",
    "\\end{cases}$$\n"
   ]
  },
  {
   "cell_type": "markdown",
   "metadata": {},
   "source": [
    "- 先求解最小化:\n",
    "\n",
    "$$ \\frac{\\delta L}{\\delta b} = \\frac{\\delta}{\\delta b}(-\\sum_{i=1}^N\\lambda_iy_ib) = \\sum_{i=1}^N\\lambda_iy_i = 0$$\n",
    "\n",
    "- 将其代入L中求导可得: $$ w = \\sum_{i=1}^N\\lambda_iy_ix_i$$\n",
    "\n",
    "- 再将w代入L中求导可得优化方程: \n",
    "\n",
    "$$\\begin{cases}\n",
    "&\\max\\limits_{\\lambda}-\\frac12\\sum_{i=1}^N\\sum_{j=1}^N\\lambda_i\\lambda_jy_iy_jx_i^Tx_j + \\sum_{i=1}^N\\lambda_i\\\\\n",
    "&s.t.\\; \\lambda \\geq 0, \\sum_{i=1}^N\\lambda_iy_i = 0\n",
    "\\end{cases}$$"
   ]
  },
  {
   "cell_type": "markdown",
   "metadata": {},
   "source": [
    "- 强对偶关系, 必定满足KKT条件, 引入KKT可得: \n",
    "\n",
    "$$\\begin{cases}\n",
    "\\frac{\\delta L}{\\delta w} = 0, \\frac{\\delta L}{\\delta b} = 0,\\frac{\\delta L}{\\delta\\lambda} = 0 \\\\\n",
    "\\lambda_i(1 - yi(w^Tx_i + b)) = 0 \\\\ \n",
    "\\lambda \\geq 0 \\\\\n",
    "1 - yi(w^Tx_i + b) \\leq 0\n",
    "\\end{cases}$$\n",
    "\n",
    "\n",
    "<img src=\"./svm_margin.jpg\" alt=\"边界方程\" style=\"zoom: 100%;\" />\n",
    "\n",
    "- 根据上图: 距离超平面最近的数据点正好在支持向量上: $w^Tx + b = -1 $ 和 $ w^Tx + b = -1 $ 上, (这里是以 $\\gamma$ 为基量的)\n",
    "\n",
    "- 因为有条件 $ \\lambda_i(1 - yi(w^Tx_i + b)) = 0$, 对支持向量上, $ \\lambda_i$可以取非零值, 但不在支持向量上的点而言, $ \\lambda_i$必然为零, 所以$ \\lambda_i$ 作用就是筛选出最近数据点\n",
    "\n",
    "- 因此, $\\exist(x_k,y_k), s.t.\\; 1- y_k(w^Tx_k + b) = 0$\n",
    "\n",
    "- 所以结合 $y^2_k = 1$ 和 $y^2_k(w^Tx_k + b) = y_k$ 有 $$ b^* = y_k - wTx$$\n",
    "\n",
    "- 代入 $ w^* = \\sum_{i=1}^N\\lambda_iy_ix_i$, 有 $$ b^*_k = y_k -  \\sum_{i=1}^N\\lambda_iy_ix_i^Tx_k$$\n",
    "\n",
    "- 分类决策函数为: $$ f(x) = sign(w^{*T}x + b^*)$$\n",
    "\n",
    "- 因为只有在支持向量上才有 $\\lambda_i$, 可以看出 $ w^*, b^*$的值只和支持向量有关."
   ]
  },
  {
   "cell_type": "markdown",
   "metadata": {},
   "source": [
    "## 软间隔"
   ]
  },
  {
   "cell_type": "markdown",
   "metadata": {},
   "source": [
    "- 增加Loss来允许一点点错误\n",
    "\n",
    "$$\\begin{cases}\n",
    "& \\min\\limits_{w,b}\\frac12w^Tw + C\\sum^N_{i=1}\\xi_i\\\\\n",
    "&s.t.\\; y_i(w^Tx+b) \\geq 1 - \\xi_i, for\\forall i = \\{i,...,N\\} \\\\\n",
    "&s.t.\\; \\xi_i \\geq 0\n",
    "\\end{cases}$$"
   ]
  },
  {
   "cell_type": "markdown",
   "metadata": {},
   "source": [
    "## 核方法"
   ]
  },
  {
   "cell_type": "markdown",
   "metadata": {},
   "source": [
    "- 有两个重要作用:\n",
    "    - 非线性带来高维转换 (从模型角度)\n",
    "    - 对偶表示带来内积(从优化角度)\n",
    "-数据转向高维: $X(input space) \\to Z(feature space)$\n",
    "\n",
    "- 在硬间隔中的二次优化中, 需要计算 $x_i^Tx_j$, 这是数据本身的内积\n",
    "- 若对其进行非线性变换后, 则为 $ \\phi(x_i)^T\\phi(x_j)$\n",
    "- 正常计算步骤中需要先计算 $ \\phi(x_i)$ 和 $\\phi(x_j)$后, 再计算内积\n",
    "- 可以使用核方法直接计算内积: $ K(x, x') = \\phi(x)^T\\phi(x')$\n",
    "- 核函数是正定的"
   ]
  },
  {
   "cell_type": "markdown",
   "metadata": {},
   "source": [
    "## 代码"
   ]
  },
  {
   "cell_type": "code",
   "execution_count": 15,
   "metadata": {},
   "outputs": [
    {
     "data": {
      "image/png": "[encoded data removed]",
      "text/plain": [
       "<Figure size 640x480 with 1 Axes>"
      ]
     },
     "metadata": {},
     "output_type": "display_data"
    }
   ],
   "source": [
    "# -*- coding:UTF-8 -*-\n",
    "import matplotlib.pyplot as plt\n",
    "import pandas as pd\n",
    "import numpy as np\n",
    "import seaborn as sns\n",
    "import random\n",
    "\n",
    "\n",
    "\"\"\"\n",
    "随机选择lambda\n",
    "Parameters: i - lambda_i的索引值, m - lambda参数个数\n",
    "Returns: j - lambda_j的索引值\n",
    "\"\"\"\n",
    "def selectJrand(i, m):\n",
    "    j = i                                 #选择一个不等于i的j\n",
    "    while (j == i):\n",
    "        j = int(random.uniform(0, m))\n",
    "    return j\n",
    "\n",
    "\"\"\"\n",
    "修剪lambda\n",
    "Parameters:    aj - lambda_j值    H - lambda上限    L - lambda下限\n",
    "Returns:    aj - alpah值\n",
    "\"\"\"\n",
    "def cliplambda(aj,H,L):\n",
    "    if aj > H: \n",
    "        aj = H\n",
    "    if L > aj:\n",
    "        aj = L\n",
    "    return aj\n",
    "\n",
    "\"\"\"\n",
    "简化版SMO算法\n",
    "Parameters:    dataMatIn - 数据矩阵    classLabels - 数据标签    C - 松弛变量0.6    toler - 容错率 0.001    maxIter - 最大迭代次数 40\n",
    "\"\"\"\n",
    "def smoSimple(dataMatIn, classLabels, C, toler, maxIter):\n",
    "    #转换为numpy的mat存储\n",
    "    dataMatrix = np.mat(dataMatIn); \n",
    "    labelMat = np.mat(classLabels).transpose()\n",
    "    #初始化b参数，统计dataMatrix的维度\n",
    "    b = 0; \n",
    "    m,n = np.shape(dataMatrix)\n",
    "    #初始化lambda参数，设为0\n",
    "    lambdas = np.mat(np.zeros((m,1)))\n",
    "    #初始化迭代次数\n",
    "    iter_num = 0\n",
    "    #最多迭代matIter次\n",
    "    while (iter_num < maxIter):\n",
    "        lambdaPairsChanged = 0\n",
    "        for i in range(m):\n",
    "            #步骤1：计算误差Ei\n",
    "            fXi = np.multiply(lambdas,labelMat).T*(dataMatrix*dataMatrix[i,:].T) + b\n",
    "            Ei = fXi - labelMat[i]\n",
    "            #优化lambda，设定一定的容错率。\n",
    "            if ((labelMat[i]*Ei < -toler) and (lambdas[i] < C)) or ((labelMat[i]*Ei > toler) and (lambdas[i] > 0)):\n",
    "                #随机选择另一个与lambda_i成对优化的lambda_j\n",
    "                j = selectJrand(i,m)\n",
    "                #步骤1：计算误差Ej\n",
    "                fXj = np.multiply(lambdas,labelMat).T*(dataMatrix*dataMatrix[j,:].T) + b\n",
    "                Ej = fXj - labelMat[j]\n",
    "                #保存更新前的lambda值，使用深拷贝\n",
    "                lambdaIold = lambdas[i].copy(); \n",
    "                lambdaJold = lambdas[j].copy();\n",
    "                #步骤2：计算上下界L和H, 如果不是相同分类, 则下界取差值或者0, 上界差值至少大于0.6, 但要更小的\n",
    "                if (labelMat[i] != labelMat[j]):\n",
    "                    L = max(0, lambdas[j] - lambdas[i])\n",
    "                    H = min(C, C + lambdas[j] - lambdas[i])\n",
    "                #如果是相同分类, 取和\n",
    "                else:\n",
    "                    L = max(0, lambdas[j] + lambdas[i] - C)\n",
    "                    H = min(C, lambdas[j] + lambdas[i])\n",
    "\n",
    "                if L==H:\n",
    "                    continue\n",
    "                #步骤3：计算eta 2xi*yi - xi*xi - yi*yi\n",
    "                eta = 2.0 * dataMatrix[i,:]*dataMatrix[j,:].T - dataMatrix[i,:]*dataMatrix[i,:].T - dataMatrix[j,:]*dataMatrix[j,:].T\n",
    "                if eta >= 0:\n",
    "                    continue\n",
    "                #步骤4：更新lambda_j\n",
    "                lambdas[j] -= labelMat[j]*(Ei - Ej)/eta\n",
    "                #步骤5：修剪lambda_j\n",
    "                lambdas[j] = cliplambda(lambdas[j],H,L)\n",
    "                #lambda_j变化太小 \n",
    "                if (abs(lambdas[j] - lambdaJold) < 0.00001): \n",
    "                    continue\n",
    "                #步骤6：更新lambda_i\n",
    "                lambdas[i] += labelMat[j]*labelMat[i]*(lambdaJold - lambdas[j])\n",
    "                #步骤7：更新b_1和b_2\n",
    "                b1 = b - Ei- labelMat[i]*(lambdas[i]-lambdaIold)*dataMatrix[i,:]*dataMatrix[i,:].T - labelMat[j]*(lambdas[j]-lambdaJold)*dataMatrix[i,:]*dataMatrix[j,:].T\n",
    "                b2 = b - Ej- labelMat[i]*(lambdas[i]-lambdaIold)*dataMatrix[i,:]*dataMatrix[j,:].T - labelMat[j]*(lambdas[j]-lambdaJold)*dataMatrix[j,:]*dataMatrix[j,:].T\n",
    "                #步骤8：根据b_1和b_2更新b\n",
    "                if (0 < lambdas[i]) and (C > lambdas[i]): \n",
    "                    b = b1\n",
    "                elif (0 < lambdas[j]) and (C > lambdas[j]): \n",
    "                    b = b2\n",
    "                else: b = (b1 + b2)/2.0\n",
    "        #更新迭代次数\n",
    "        if (lambdaPairsChanged == 0): \n",
    "            iter_num += 1\n",
    "        else: iter_num = 0\n",
    "        #print(\"迭代次数: %d\" % iter_num)\n",
    "    return b,lambdas\n",
    "\n",
    "# 画图\n",
    "def showClassifer(dataMat, labelMat, w:np.ndarray, b):\n",
    "    #绘制样本点\n",
    "    sns.set()\n",
    "    sns.scatterplot(x=dataMat[:,0], y=dataMat[:,1], hue=labelMat)\n",
    "    #绘制直线\n",
    "    x1 = np.max(dataMat[:,0])\n",
    "    x2 = np.min(dataMat[:,0])\n",
    "    a1, a2 = w\n",
    "    a1 = a1[0]\n",
    "    a2 = a2[0]\n",
    "    y1, y2 = (-b- a1*x1)/a2, (-b - a1*x2)/a2\n",
    "    plt.plot([x1, x2], [y1, y2])\n",
    "    #找出支持向量点\n",
    "    for i, lamda in enumerate(lambdas):\n",
    "        if abs(lamda) > 0:\n",
    "            x, y = dataMat[i]\n",
    "            plt.scatter([x], [y], s=150, c='none', alpha=0.7, linewidth=1.5, edgecolor='red')\n",
    "    plt.show()\n",
    "\n",
    "#准备数据\n",
    "dataUrl = '.\\\\testSet.csv'\n",
    "df = pd.read_csv(dataUrl)\n",
    "X = np.array(df)\n",
    "data = X[:,:2]\n",
    "label = X[:,2]\n",
    "\n",
    "\n",
    "b,lambdas = smoSimple(data, label, 2, 0.001, 40)\n",
    "\n",
    "lambdas= np.array(lambdas)\n",
    "w = np.dot((np.tile(label.reshape(1, -1).T, (1, 2)) * data).T, lambdas)\n",
    "\n",
    "\n",
    "showClassifer(data, label, w, b[0,0])"
   ]
  }
 ],
 "metadata": {
  "kernelspec": {
   "display_name": "logit",
   "language": "python",
   "name": "python3"
  },
  "language_info": {
   "codemirror_mode": {
    "name": "ipython",
    "version": 3
   },
   "file_extension": ".py",
   "mimetype": "text/x-python",
   "name": "python",
   "nbconvert_exporter": "python",
   "pygments_lexer": "ipython3",
   "version": "3.10.14"
  }
 },
 "nbformat": 4,
 "nbformat_minor": 2
}
