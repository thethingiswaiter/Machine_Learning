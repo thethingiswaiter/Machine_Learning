{
 "cells": [
  {
   "cell_type": "markdown",
   "metadata": {},
   "source": [
    "## 支持向量机(SVM - support vector machine)\n",
    "\n",
    "- 支持向量机是较为强大的分类方法\n",
    "\n",
    "- 有三个重点: 间隔, 对偶, 核技巧\n",
    "\n",
    "- 可以分为三类:\n",
    "    - 硬间隔\n",
    "    - 软间隔\n",
    "    - 核方法"
   ]
  }
 ],
 "metadata": {
  "kernelspec": {
   "display_name": "logit",
   "language": "python",
   "name": "python3"
  },
  "language_info": {
   "name": "python",
   "version": "3.10.14"
  }
 },
 "nbformat": 4,
 "nbformat_minor": 2
}
