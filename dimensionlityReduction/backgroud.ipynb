{
 "cells": [
  {
   "cell_type": "markdown",
   "metadata": {},
   "source": [
    "## 背景\n",
    "\n",
    "- 过拟合 -> 增加数据, 正则化, 降维\n",
    "\n",
    "- 高维度有着更大的特征空间, 需要更多的数据才可以进行较为准确的估计, 每增加一个特征, 所需的数据量都是在以指数级的进行增长;\n",
    "\n",
    "- 几何角度看, 高维的球形表面一层几乎占据了整个圆的所有体积, 导致数据容易稀疏 \n",
    "$$ lim_{D \\to \\infin}\\frac{V_{圆环}}{V_{外圆}} = lim_{D \\to \\infin}\\frac{k-k(1-\\varepsilon)^D}{k} = lim_{D \\to \\infin}1-1(1-\\varepsilon)^D = 1$$\n"
   ]
  },
  {
   "cell_type": "markdown",
   "metadata": {},
   "source": [
    "##### 常用的降维方法:\n",
    "\n",
    "- 直接降维: 特征选择: 直接去掉不重要特征\n",
    "- 线性降维: PCA,MDS(多维空间缩放)\n",
    "- 非线性降维: 流形, 等度量映射(ISOMAP), 局部线性嵌入(LLE)"
   ]
  },
  {
   "cell_type": "markdown",
   "metadata": {},
   "source": [
    "##### 样本均值和方差的矩阵表达\n",
    "\n",
    "- 样本均值公式为: $$ \\bar{X}_{p\\times1} = \\frac1N\\sum^{N}_{i=1}xi$$\n",
    "\n",
    "- 令 $1_N$ 为全为1的列向量, 可得 $$ \\bar{X}_{p\\times1} = \\frac1NX^T1_N$$\n",
    "\n",
    "- 样本方差公式为: $$  \\bar{S}_{p\\times p} = \\frac1N\\sum^{N}_{i=1}(xi-\\bar{X})(xi-\\bar{X})^T$$\n",
    "\n",
    "- 引入中心矩阵 $H = (I_N - \\frac1N1_N1N^T)$, 其中 $ I_N$是 $N \\times N$的单位矩阵, $ 1_N1N^T$是 $N \\times N$的全1矩阵\n",
    "\n",
    "- 中心矩阵的性质: $H^T = H, H_n = H$\n",
    "\n",
    "- 将中心矩阵代入样本方差后, 可得: $$ S = \\frac1nX^THHX = \\frac1nX^THX$$"
   ]
  }
 ],
 "metadata": {
  "language_info": {
   "name": "python"
  }
 },
 "nbformat": 4,
 "nbformat_minor": 2
}
