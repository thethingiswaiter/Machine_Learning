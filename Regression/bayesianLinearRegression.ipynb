{
 "cells": [
  {
   "cell_type": "markdown",
   "metadata": {},
   "source": [
    "## 贝叶斯线性回归\n",
    "\n",
    "- 线性回归当噪声为高斯分布的时候，最小二乘损失导出的结果相当于对概率模型应用 MLE\n",
    "- 引入参数的先验时\n",
    "    - 先验分布是高斯分布，那么 MAP的结果相当于岭回归的正则化\n",
    "    - 先验是拉普拉斯分布，那么相当于 Lasso 的正则化\n",
    "- 这两种方案都是点估计方法。我们希望利用贝叶斯方法来求解参数的后验分布。\n",
    "\n",
    "- 线性回归的模型假设为：\n",
    "$$\n",
    "\\begin{align}f(x)=w^Tx\n",
    "\\\\y=f(x)+\\varepsilon\\\\\n",
    "\\varepsilon\\sim\\mathcal{N}(0,\\sigma^2)\n",
    "\\end{align}\n",
    "$$\n",
    "- 其中 $\\varepsilon$ 是假定已知的"
   ]
  },
  {
   "cell_type": "markdown",
   "metadata": {},
   "source": [
    "#### 推断\n",
    "\n",
    "- 假定已知高斯先验：\n",
    "$$p(w)=\\mathcal{N}(0,\\Sigma_p)$$\n",
    "- 对参数的后验分布进行推断：\n",
    "$$p(w|X,Y)=\\frac{p(w,Y|X)}{p(Y|X)}=\\frac{p(Y|w,X)p(w|X)}{\\int p(Y|w,X)p(w|X)dw}$$\n",
    "- 分母和参数无关，由于 $p(w|X)=p(w)$，代入先验得到：\n",
    "$$p(w|X,Y)\\propto \\prod\\limits_{i=1}^N\\mathcal{N}(y_i|w^Tx_i,\\sigma^2)\\cdot\\mathcal{N}(0,\\Sigma_p)$$\n",
    "- 高斯分布取高斯先验的共轭分布依然是高斯分布，于是可以得到后验分布也是一个高斯分布。第一项：\n",
    "$$\n",
    "\\begin{align}\\prod\\limits_{i=1}^N\\mathcal{N}(y_i|w^Tx_i,\\sigma^2)&=\\frac{1}{(2\\pi)^{N/2}\\sigma^N}\\exp(-\\frac{1}{2\\sigma^2}\\sum\\limits_{i=1}^N(y_i-w^Tx_i)^2)\\nonumber\\\\\n",
    "&=\\frac{1}{(2\\pi)^{N/2}\\sigma^N}\\exp(-\\frac{1}{2}(Y-Xw)^T(\\sigma^{-2}\\mathbb{I})(Y-Xw))\n",
    "\\nonumber\\\\&=\\mathcal{N}(Xw,\\sigma^2\\mathbb{I})\n",
    "\\end{align}\n",
    "$$\n",
    "- 代入上面的式子：\n",
    "$$p(w|X,Y)\\propto\\exp(-\\frac{1}{2\\sigma^2}(Y-Xw)^T\\sigma^{-2}\\mathbb{I}(Y-Xw)-\\frac{1}{2}w^T\\Sigma_p^{-1}w)$$\n",
    "- 假定最后得到的高斯分布为：$\\mathcal{N}(\\mu_w,\\Sigma_w)$。\n",
    "- 对于上面的分布，采用配方的方式来得到最终的分布\n",
    "- 指数上面的二次项为：$-\\frac{1}{2\\sigma^2}w^TX^TXw-\\frac{1}{2}w^T\\Sigma_p^{-1}w$\n",
    "- 于是：\n",
    "$$\\Sigma_w^{-1}=\\sigma^{-2}X^TX+\\Sigma_p^{-1}=A$$\n",
    "- 一次项：$\\frac{1}{2\\sigma^2}2Y^TXw=\\sigma^{-2}Y^TXw$\n",
    "- 于是：\n",
    "$$\\mu_w^T\\Sigma_w^{-1}=\\sigma^{-2}Y^TX\\Rightarrow\\mu_w=\\sigma^{-2}A^{-1}X^TY$$"
   ]
  },
  {
   "cell_type": "markdown",
   "metadata": {},
   "source": [
    "#### 预测\n",
    "\n",
    "- 给定一个 $x^*$，求解 $y^*$，所以 \n",
    "$$f(x^*)=x^{*T}w = \\mathcal{N}(x^{*T}\\mu_w,x^{*T}\\Sigma_wx^*)$$\n",
    "- 添上噪声项：\n",
    "$$\n",
    "\\begin{align}\n",
    "p(y^*|X,Y,x^*) & =\\int_wp(y^*|w,X,Y,x^*)p(w|X,Y,x^*)dw\\\\\n",
    "& =\\int_wp(y^*|w,x^*)p(w|X,Y)dw \\\\\n",
    "& =\\mathcal{N}(x^{*T}\\mu_w,x^{*T}\\Sigma_wx^*+\\sigma^2)\n",
    "\\end{align}\n",
    "$$\n"
   ]
  }
 ],
 "metadata": {
  "language_info": {
   "name": "python"
  }
 },
 "nbformat": 4,
 "nbformat_minor": 2
}
