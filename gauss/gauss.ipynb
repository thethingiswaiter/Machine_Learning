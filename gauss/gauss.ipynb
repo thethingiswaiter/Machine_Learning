{
 "cells": [
  {
   "cell_type": "markdown",
   "metadata": {},
   "source": [
    "## 正态分布公式推导"
   ]
  },
  {
   "cell_type": "markdown",
   "metadata": {},
   "source": [
    "$$ P(x) = \\dfrac{1}{\\sqrt{2\\pi} \\sigma }e^{-\\dfrac{(x-\\mu)^2}{2\\sigma^2}}$$"
   ]
  },
  {
   "cell_type": "markdown",
   "metadata": {},
   "source": [
    "- 二项式分布 $$b(n,p,i)= \\binom{n}{i}p^iq^{n-i}$$\n",
    "\n",
    "- 斯特林公式: $$ n! = \\sqrt{\\mathstrut{2\\pi n}}(\\dfrac{n}{e})^n $$\n",
    "\n",
    "- 令n为偶数, $b(n, \\dfrac{1}{2}, i) = \\binom{n}{i}(\\dfrac{1}{2})^n$ , 简记 $b(n, \\dfrac{1}{2}, i) $ 为b(i), 计算得 $\\mathstrut\\sqrt{\\dfrac{2}{\\pi n}}$\n",
    "\n",
    "- Guassian 误差分布导出的极大似然估计 = 算术平均\n",
    "\n",
    "- 设 真值为 $\\theta, \\: x_1, x_2, \\cdot \\cdot \\cdot , x_n$ 为n次独立测量值, 每次测量误差为$e_i = x_i - \\theta$, 假设误差密度函数为$\\mathbf{f(e)}$ ,则测量值的联合概率为n个误差的联合概率, 记为: \n",
    "\n",
    "$$ L(\\theta) = L(\\theta; x_1, \\cdot \\cdot \\cdot , x_n) = f(e_1)\\cdot \\cdot \\cdot f(e_n) = f(x_1 -\\theta) \\cdot \\cdot \\cdot f(x_n - \\theta) $$\n",
    "\n",
    "- 为求极大似然估计, 令: $\\frac{d \\log L(\\theta)}{d \\theta} = 0 $\n",
    "\n",
    "- 整理后可得: $$ \\sum_{i=1}^{n}\\dfrac{f'(x_i - \\theta)}{f(x_i - \\theta)}$$\n",
    "\n",
    "- 令 $g(x) = \\dfrac{f'(x)}{f(x)}$, 有 $$\\sum_{i=1}^{n}g(x_i - \\theta)$$\n",
    "\n",
    "- 由于高斯假设极大似然估计的解就是算术平均 $\\bar{x}$, 把解带入上式, 可以得到 $$\\sum_{i=1}{n}g(x_i - \\bar{x}) = 0 \\qquad (1)$$\n",
    "\n",
    "- (1)式中取 n = 2, 有 $$ g(x_1 - \\bar{x}) + g(x_2 - \\bar{x}) = 0$$\n",
    "\n",
    "- 由于此时有 $x_1 - \\bar{x} = -(x_2 - \\bar{x})$, 并且 $x_1, x_2$是任意的, 由此得到 $$g(-x) = -g(x)$$\n",
    "\n",
    "- (1)式中再取 n = m + 1, 并且要求 $ x_1 = \\cdot\\cdot\\cdot=x_m = -x, x_{m+1} = mx, 则有 \\bar{x} = 0$, 并且 $$\\sum_{i=1}^{n}g(x_i - \\bar{x}) = mg(-x) + g(mx)$$\n",
    "\n",
    "- 所以得到 $g(mx) = mg(x)$, 而唯一满足上式的唯一的连续函数就是 $g(x) = cx$, 从而可以进一步求解出 $$f(x) = Me^{cx^2}$$"
   ]
  }
 ],
 "metadata": {
  "kernelspec": {
   "display_name": "logit",
   "language": "python",
   "name": "python3"
  },
  "language_info": {
   "name": "python",
   "version": "3.10.14"
  }
 },
 "nbformat": 4,
 "nbformat_minor": 2
}
