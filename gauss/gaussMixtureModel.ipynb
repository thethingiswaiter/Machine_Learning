{
 "cells": [
  {
   "cell_type": "markdown",
   "metadata": {},
   "source": [
    "## 高斯混合模型\n",
    "\n",
    "- 从几何角度来看: 加权平均(多个高斯分布叠加而成) $$ P(x) = \\sum^K_{k=1} p_kN(\\mu_k,\\Sigma_k) \\; s.t \\sum^K_{k=1} p_k = 1$$\n",
    "\n",
    "- 从混合模型(生成模型)角度来看: \n",
    "    1 掷骰子均订用哪个高斯分布去生成, 也就是隐变量z\n",
    "    2 再具体高斯分布下采样, 得到样本x"
   ]
  },
  {
   "cell_type": "markdown",
   "metadata": {},
   "source": [
    "#### EM求解\n",
    "\n",
    "- 使用西瓜书的求解方式, 定义高斯混合分布, 其中 $ \\alpha_i$为第i个混合成分的概率: $$ P(x) = \\sum^k_{i=1} \\alpha_ip(x|\\mu_i,\\Sigma_i) \\; s.t \\sum^K_{i=1} \\alpha_i = 1$$\n",
    "\n",
    "- 令随机变量 $ z_j \\in  \\{1,k\\}$ 表示生成样本 $x_j$ 的高斯混合成分, 其中 $P(z_j=i) = \\alpha_i$ 所以隐变量的后验分布为: \n",
    "\n",
    "$$ P_M(z_j=i|x_j) = \\frac{P(z_j= i )P_M(x_j|z_j=i)}{P_M(x_j)} = \\frac{\\alpha_i \\cdot p(x_j|\\mu_i, \\Sigma_i)}{\\sum^k_{i=1}\\alpha_i \\cdot p(x_i|\\mu_i, \\Sigma_i)}$$\n",
    "\n",
    "- 对模型进行最大对数似然, 可得每个分组权重: $$ \\mu_i = \\frac{\\sum^m_{j=1}\\gamma_{ji}x_j}{\\sum^m_{j=1}\\gamma_{ji}}$$\n",
    "\n",
    "- 可得每个分组方差: $$ \\Sigma_i = \\frac{\\sum^m_{j=1}\\gamma_{ji}(x_j-\\mu_i)(x_j-\\mu_i)^T}{\\sum^m_{j=1}\\gamma_{ji}}$$\n",
    "\n",
    "- 引入拉格朗日求解可得隐变量: $$ \\alpha_i = \\frac1m\\sum^m_{j=1}\\gamma_{ji}$$"
   ]
  },
  {
   "cell_type": "code",
   "execution_count": 6,
   "metadata": {},
   "outputs": [],
   "source": [
    "import numpy as np\n",
    "\n",
    "class GMM:\n",
    "    def __init__(self, n_components=3, max_iter=100):\n",
    "        # k个分组节点\n",
    "        self.n_components = n_components\n",
    "        # 最大迭代次数\n",
    "        self.max_iter = max_iter\n",
    "\n",
    "    def fit(self, X):\n",
    "        # 数据量行数, 数据量有多少维度\n",
    "        n_samples, n_features = X.shape\n",
    "        # 初始化参数\n",
    "        # 权重ai默认为1/k\n",
    "        self.weights = np.ones(self.n_components) / self.n_components\n",
    "        # 生成k个维度为n的均值\n",
    "        self.means = np.random.rand(self.n_components, n_features)\n",
    "        # 生成k个矩阵大小为维度n的单位方差矩阵\n",
    "        self.covariances = np.array([np.eye(n_features) for _ in range(self.n_components)])\n",
    "        # 迭代n次\n",
    "        for _ in range(self.max_iter):\n",
    "            # E步：计算后验概率\n",
    "            resp = np.zeros((n_samples, self.n_components))\n",
    "            for j in range(n_samples):\n",
    "                for i in range(self.n_components):\n",
    "                    # 计算高斯分布概率密度函数\n",
    "                    pdf = self._gaussian_pdf(X[j], self.means[i], self.covariances[i])\n",
    "                    # 权重 * 高斯模型概率\n",
    "                    resp[j, i] = self.weights[i] * pdf\n",
    "                # 每个样本的后验需要除以分组的后验合计\n",
    "                resp[j] /= resp[j].sum()\n",
    "\n",
    "            # M步：更新参数\n",
    "            \n",
    "            # 后验概率求和\n",
    "            Nk = resp.sum(axis=0)\n",
    "            # 更新ai\n",
    "            self.weights = Nk / n_samples\n",
    "             # 分组更新均值核方差\n",
    "            for k in range(self.n_components):\n",
    "                self.means[k] = np.dot(resp[:, k], X) / Nk[k]\n",
    "                self.covariances[k] = np.dot(resp[:, k] * (X - self.means[k]).T, X - self.means[k]) / Nk[k]\n",
    "\n",
    "    def _gaussian_pdf(self, x, mean, cov):\n",
    "        det = np.linalg.det(cov)\n",
    "        inv = np.linalg.inv(cov)\n",
    "        n = x.shape[0]\n",
    "        diff = x - mean\n",
    "        return np.exp(-0.5 * np.dot(np.dot(diff.T, inv), diff)) / (np.sqrt((2 * np.pi)**n * det))\n",
    "\n",
    "    def predict(self, X):\n",
    "        resp = np.zeros((X.shape[0], self.n_components))\n",
    "        for i in range(X.shape[0]):\n",
    "            for k in range(self.n_components):\n",
    "                pdf = self._gaussian_pdf(X[i], self.means[k], self.covariances[k])\n",
    "                resp[i, k] = self.weights[k] * pdf\n",
    "            resp[i] /= resp[i].sum()\n",
    "        return np.argmax(resp, axis=1)"
   ]
  },
  {
   "cell_type": "code",
   "execution_count": 8,
   "metadata": {},
   "outputs": [
    {
     "name": "stdout",
     "output_type": "stream",
     "text": [
      "[[ 2.74403536 -3.21361048]\n",
      " [-0.08270665 -0.0792566 ]\n",
      " [ 2.9844215   2.78546138]]\n"
     ]
    },
    {
     "data": {
      "image/png": "[encoded data removed]",
      "text/plain": [
       "<Figure size 640x480 with 1 Axes>"
      ]
     },
     "metadata": {},
     "output_type": "display_data"
    }
   ],
   "source": [
    "import numpy as np\n",
    "import matplotlib.pyplot as plt\n",
    "\n",
    "def generate_gmm_data(K, N, means, covs):\n",
    "    \"\"\"\n",
    "    生成高斯混合模型数据\n",
    "\n",
    "    Args:\n",
    "        K: 高斯分布的数量\n",
    "        N: 每个高斯分布生成的样本数\n",
    "        means: 各个高斯分布的均值向量\n",
    "        covs: 各个高斯分布的协方差矩阵\n",
    "\n",
    "    Returns:\n",
    "        生成的样本数据\n",
    "    \"\"\"\n",
    "\n",
    "    data = np.zeros((N*K, means.shape[1]))\n",
    "    for k in range(K):\n",
    "        data[k*N:(k+1)*N, :] = np.random.multivariate_normal(means[k], covs[k], N)\n",
    "    return data\n",
    "\n",
    "# 示例：生成一个包含两个二维高斯分布的数据集\n",
    "K = 3\n",
    "N = 100\n",
    "means = np.array([[0, 0], [3, 3], [3,-3]])\n",
    "covs = np.array([[[1, 0.5], [0.5, 1]], [[1, -0.5], [-0.5, 1]], [[1, 0.5], [0.5, 1]]])\n",
    "data = generate_gmm_data(K, N, means, covs)\n",
    "\n",
    "gmm = GMM()\n",
    "\n",
    "theta = gmm.fit(data)\n",
    "print(gmm.means)\n",
    "# 可视化数据\n",
    "plt.scatter(data[:, 0], data[:, 1])\n",
    "plt.show()"
   ]
  }
 ],
 "metadata": {
  "kernelspec": {
   "display_name": "logit",
   "language": "python",
   "name": "python3"
  },
  "language_info": {
   "codemirror_mode": {
    "name": "ipython",
    "version": 3
   },
   "file_extension": ".py",
   "mimetype": "text/x-python",
   "name": "python",
   "nbconvert_exporter": "python",
   "pygments_lexer": "ipython3",
   "version": "3.10.14"
  }
 },
 "nbformat": 4,
 "nbformat_minor": 2
}
