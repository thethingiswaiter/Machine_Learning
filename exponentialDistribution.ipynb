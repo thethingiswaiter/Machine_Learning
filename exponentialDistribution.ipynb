{
 "cells": [
  {
   "cell_type": "markdown",
   "metadata": {},
   "source": [
    "## 指数族分布\n",
    "\n",
    "- 指数族分布是一个分布族, 满足以下形式的都是:\n",
    "$$ P(x|\\eta) = h(x)exp(\\eta^T\\phi(x) - A(\\eta))$$\n",
    "\n",
    "- 其有三大性质\n",
    "    - 充分统计量\n",
    "    - 共轭\n",
    "    - 最大熵(无信息先验)\n",
    "- 包含以下常见分布\n",
    "    - Gauss分布\n",
    "    - Bernoulli分布\n",
    "    - 多项式分布\n",
    "    - 泊松分布\n",
    "    - Beta分布\n",
    "    - Dirchlet分布\n",
    "    - Gamma分布"
   ]
  },
  {
   "cell_type": "markdown",
   "metadata": {},
   "source": [
    "#### 充分统计量\n",
    "\n",
    "- 式子中的 $\\phi(x)$为充分统计量\n",
    "- 统计量是指对样本的加工, 即一个对于样本的函数, 如均值, 方差等"
   ]
  },
  {
   "cell_type": "markdown",
   "metadata": {},
   "source": [
    "## 共轭\n",
    "\n",
    "- 一般指确定先验的分布后, 后验的分布会保持不变"
   ]
  },
  {
   "cell_type": "markdown",
   "metadata": {},
   "source": [
    "#### 最大熵\n",
    "\n",
    "- 给定一个限制条件的情况下, 对于未知部分, 会假设他们等可能发生"
   ]
  },
  {
   "cell_type": "markdown",
   "metadata": {},
   "source": [
    "##### 用Gauss分布来观察指数族分布\n",
    "\n",
    "- $\\eta$ : 参数\n",
    "- $\\phi(x)$ : 充分统计量\n",
    "- $A(\\eta)$ : 对数配分函数\n",
    "\n",
    "- 将高斯分布转换为指数族分布形式 $\\theta = (\\mu, \\sigma^2)$\n",
    "\n",
    "$$ P(x|\\eta)=\\dfrac{1}{\\sqrt{2\\pi}\\sigma }exp\\{-\\dfrac{(x-\\mu)^2}{2\\sigma^2}\\}=exp\\{(\\frac\\mu{\\sigma^2}\\; -\\frac1{2\\sigma^2})\\binom{x}{x^2}-(\\frac{\\mu^2}{2\\sigma^2} + \\dfrac12log(2\\pi\\sigma^2))\\}$$\n",
    "\n",
    "以上有:\n",
    "- $\\phi(x) = \\binom{x}{x^2}$\n",
    "- $\\eta = \\binom{\\eta_1}{\\eta_2} = \\binom{\\frac\\mu{\\sigma^2}}{-\\frac1{2\\sigma^2}}$\n",
    "- 可得: $\\sigma^2 = -\\frac1{2\\eta_2}\\mu =-\\frac{\\eta_1}{2\\eta_2} $\n",
    "\n",
    "- 式子后面代入可得: $$A(\\eta) = -\\frac{\\eta_1^2}{4\\eta_2} + \\dfrac12log(-\\frac{\\pi}{\\eta_2})$$"
   ]
  }
 ],
 "metadata": {
  "kernelspec": {
   "display_name": "logit",
   "language": "python",
   "name": "python3"
  },
  "language_info": {
   "name": "python",
   "version": "3.10.14"
  }
 },
 "nbformat": 4,
 "nbformat_minor": 2
}
